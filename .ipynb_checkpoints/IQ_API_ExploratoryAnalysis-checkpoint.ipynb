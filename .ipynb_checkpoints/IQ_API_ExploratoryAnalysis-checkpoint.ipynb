{
 "cells": [
  {
   "cell_type": "markdown",
   "metadata": {},
   "source": [
    "# Load Dependencies"
   ]
  },
  {
   "cell_type": "code",
   "execution_count": 1,
   "metadata": {},
   "outputs": [
    {
     "name": "stdout",
     "output_type": "stream",
     "text": [
      "ilton.aws@gmail.com\n"
     ]
    }
   ],
   "source": [
    "from iqoptionapi.stable_api import IQ_Option\n",
    "import time, json\n",
    "from datetime import datetime\n",
    "from dateutil import tz\n",
    "\n",
    "from IPython.display import Image\n",
    "from IPython.core.display import HTML\n",
    "\n",
    "import mplfinance as mpf\n",
    "import pandas as pd\n",
    "import os\n",
    "\n",
    "IQ_EMAIL = os.environ['IQ_EMAIL']\n",
    "IQ_PWD = os.environ['IQ_PWD']\n",
    "\n",
    "print(IQ_EMAIL)"
   ]
  },
  {
   "cell_type": "markdown",
   "metadata": {},
   "source": [
    "# Estabelecendo Conexão"
   ]
  },
  {
   "cell_type": "code",
   "execution_count": 2,
   "metadata": {},
   "outputs": [
    {
     "name": "stdout",
     "output_type": "stream",
     "text": [
      "Conexão estabelecida!\n"
     ]
    }
   ],
   "source": [
    "API = IQ_Option(IQ_EMAIL, IQ_PWD)\n",
    "\n",
    "API.connect()\n",
    "API.change_balance('PRACTICE')  # PRACTICE / REAL\n",
    "\n",
    "con_tests = 0\n",
    "max_con_test = 10\n",
    "\n",
    "while True:\n",
    "    con_tests = con_tests + 1\n",
    "    if API.check_connect() is False:\n",
    "        print('Erro ao tentar se conectar!')\n",
    "        API.connect()\n",
    "    elif con_tests == max_con_test:\n",
    "        print('(error)Número máximo de tentativas excedidas!')\n",
    "        break\n",
    "    else:\n",
    "        print('Conexão estabelecida!')\n",
    "        break"
   ]
  },
  {
   "cell_type": "markdown",
   "metadata": {},
   "source": [
    "# Requisitando opções em aberto"
   ]
  },
  {
   "cell_type": "code",
   "execution_count": 3,
   "metadata": {},
   "outputs": [],
   "source": [
    "pairs = API.get_all_open_time()\n",
    "payouts = API.get_all_profit()"
   ]
  },
  {
   "cell_type": "markdown",
   "metadata": {},
   "source": [
    "# Definindo Configuração da estratégia de operação"
   ]
  },
  {
   "cell_type": "code",
   "execution_count": 4,
   "metadata": {},
   "outputs": [],
   "source": [
    "min_payout = float(0.84)\n",
    "spend_bid = int(2)\n",
    "timeframe = 1\n",
    "index = 0"
   ]
  },
  {
   "cell_type": "code",
   "execution_count": 5,
   "metadata": {},
   "outputs": [
    {
     "name": "stdout",
     "output_type": "stream",
     "text": [
      "GBPUSD\n",
      "defaultdict(<class 'dict'>, {'open': True})\n",
      "CADCHF\n",
      "defaultdict(<class 'dict'>, {'open': True})\n",
      "EURNZD\n",
      "defaultdict(<class 'dict'>, {'open': True})\n",
      "GBPNZD\n",
      "defaultdict(<class 'dict'>, {'open': True})\n",
      "AUDCHF\n",
      "defaultdict(<class 'dict'>, {'open': True})\n",
      "EURUSD\n",
      "defaultdict(<class 'dict'>, {'open': True})\n",
      "USDCAD\n",
      "defaultdict(<class 'dict'>, {'open': True})\n",
      "AUDJPY\n",
      "defaultdict(<class 'dict'>, {'open': True})\n",
      "GBPJPY\n",
      "defaultdict(<class 'dict'>, {'open': True})\n",
      "EURAUD\n",
      "defaultdict(<class 'dict'>, {'open': True})\n",
      "EURGBP\n",
      "defaultdict(<class 'dict'>, {'open': True})\n",
      "USDJPY\n",
      "defaultdict(<class 'dict'>, {'open': True})\n",
      "AUDCAD\n",
      "defaultdict(<class 'dict'>, {'open': True})\n",
      "USDCHF\n",
      "defaultdict(<class 'dict'>, {'open': True})\n",
      "GBPCHF\n",
      "defaultdict(<class 'dict'>, {'open': True})\n",
      "GBPAUD\n",
      "defaultdict(<class 'dict'>, {'open': True})\n",
      "AUDNZD\n",
      "defaultdict(<class 'dict'>, {'open': True})\n",
      "USDNOK\n",
      "defaultdict(<class 'dict'>, {'open': True})\n",
      "AUDUSD\n",
      "defaultdict(<class 'dict'>, {'open': True})\n",
      "GBPCAD\n",
      "defaultdict(<class 'dict'>, {'open': True})\n",
      "EURJPY\n",
      "defaultdict(<class 'dict'>, {'open': True})\n",
      "NZDUSD\n",
      "defaultdict(<class 'dict'>, {'open': True})\n",
      "EURCAD\n",
      "defaultdict(<class 'dict'>, {'open': True})\n",
      "COKE\n",
      "defaultdict(<class 'dict'>, {'open': True})\n",
      "JPM\n",
      "defaultdict(<class 'dict'>, {'open': True})\n",
      "MCDON\n",
      "defaultdict(<class 'dict'>, {'open': True})\n",
      "YANDEX\n",
      "defaultdict(<class 'dict'>, {'open': True})\n",
      "MSFT\n",
      "defaultdict(<class 'dict'>, {'open': True})\n",
      "MORSTAN\n",
      "defaultdict(<class 'dict'>, {'open': True})\n",
      "GS\n",
      "defaultdict(<class 'dict'>, {'open': True})\n",
      "BAIDU\n",
      "defaultdict(<class 'dict'>, {'open': True})\n",
      "TESLA\n",
      "defaultdict(<class 'dict'>, {'open': True})\n",
      "GOOGLE\n",
      "defaultdict(<class 'dict'>, {'open': True})\n",
      "ALIBABA\n",
      "defaultdict(<class 'dict'>, {'open': True})\n",
      "FACEBOOK\n",
      "defaultdict(<class 'dict'>, {'open': True})\n",
      "INTEL\n",
      "defaultdict(<class 'dict'>, {'open': True})\n",
      "NIKE\n",
      "defaultdict(<class 'dict'>, {'open': True})\n",
      "AMAZON\n",
      "defaultdict(<class 'dict'>, {'open': True})\n",
      "CITI\n",
      "defaultdict(<class 'dict'>, {'open': True})\n",
      "TWITTER\n",
      "defaultdict(<class 'dict'>, {'open': True})\n",
      "APPLE\n",
      "defaultdict(<class 'dict'>, {'open': True})\n"
     ]
    }
   ],
   "source": [
    "for pair in pairs['binary']:\n",
    "    if pairs['binary'][pair]['open'] is True:# and payout[par] >= payout_min:\n",
    "        print(pair)\n",
    "        print(pairs['binary'][pair])\n",
    "        \n",
    "#         bought, id = API.buy(spend_bid,pair,\"call\",timeframe)\n",
    "#         if bought:\n",
    "#             print(\"Ordem executada com sucesso!\")\n",
    "#         else:\n",
    "#             print(\"Não foi possível executar a ordem!\")"
   ]
  },
  {
   "cell_type": "code",
   "execution_count": 6,
   "metadata": {},
   "outputs": [
    {
     "name": "stdout",
     "output_type": "stream",
     "text": [
      "defaultdict(<class 'dict'>, {'turbo': 0.9, 'binary': 0.6})\n"
     ]
    }
   ],
   "source": [
    "print(payouts['EURUSD'])"
   ]
  },
  {
   "cell_type": "code",
   "execution_count": 7,
   "metadata": {},
   "outputs": [
    {
     "name": "stdout",
     "output_type": "stream",
     "text": [
      "defaultdict(<class 'dict'>, {'binary': 0.81})\n"
     ]
    }
   ],
   "source": [
    "print(payouts['NZDUSD'])"
   ]
  },
  {
   "cell_type": "code",
   "execution_count": 8,
   "metadata": {},
   "outputs": [],
   "source": [
    "active_ops = API.get_all_ACTIVES_OPCODE()"
   ]
  },
  {
   "cell_type": "markdown",
   "metadata": {},
   "source": [
    "# Financial Information "
   ]
  },
  {
   "cell_type": "code",
   "execution_count": 9,
   "metadata": {},
   "outputs": [],
   "source": [
    "ActiveId = active_ops['EURUSD'] #1\n",
    "fi = API.get_financial_information(1)"
   ]
  },
  {
   "cell_type": "code",
   "execution_count": 10,
   "metadata": {},
   "outputs": [
    {
     "data": {
      "text/plain": [
       "{'request_id': '',\n",
       " 'name': 'financial-information',\n",
       " 'msg': {'data': {'active': {'charts': {'dtd': {'change': 0.13476629136812646},\n",
       "     'm1': {'change': -1.8545400619502928},\n",
       "     'y1': {'change': 7.388511435281604},\n",
       "     'ytd': {'change': 4.892717271236193}},\n",
       "    'fininfo': {'base': {'name': 'Euro'},\n",
       "     'currency': {'name': 'US Dollar'},\n",
       "     'description': \"EUR/USD is an exchange rate that specifies how many USD (United States Dollar) can be converted into one EUR (Euro), therefore the base currency is EUR and the price currency is USD. If this rate declines, it means that USD appreciates relative to EUR and if this rate increases it means that the USD depreciates against the EUR. There are many macroeconomic factors/events (fundamentals) that affect EUR/USD exchange rate, which are usually common in both countries. Some of the most notable factors/events are GDP, Inflation or Consumer Price Index (CPI),  Interest Rates and other monetary policies applied by central banks. From the period since 2015 the exchange rate reached the lowest value of 1.04 in Dec of 2016 and the highest of 1.17 in Aug of 2017. Regarding the trade relationship between Eurozone and United States, the latter imports 10% of Eurozone's total exports, whereas Eurozone imports 19.2% of United States's total exports. The largest component of Eurozone's exports are machinery, nuclear reactor, boiler products and vehicles whereas United States's largest export components are machinery, nuclear reactor, boiler products and electrical/electronic equipment. Any significant shifts in the trade relationship between the two regions  and changes in the values of the aforementioned components are some of the factors that could have a material impact on the pair.\",\n",
       "     'type': 'major'},\n",
       "    'id': 1,\n",
       "    'index_fininfo': {},\n",
       "    'media': {'siteBackground': 'https://static.cdnpub.info/files/storage/public/5d/65/068c601b09g7e4c0h4.jpg'},\n",
       "    'name': 'EUR/USD',\n",
       "    'ticker': 'EURUSD'}}},\n",
       " 'status': 2000}"
      ]
     },
     "execution_count": 10,
     "metadata": {},
     "output_type": "execute_result"
    }
   ],
   "source": [
    "fi"
   ]
  },
  {
   "cell_type": "code",
   "execution_count": 11,
   "metadata": {},
   "outputs": [
    {
     "data": {
      "text/plain": [
       "dict_keys(['request_id', 'name', 'msg', 'status'])"
      ]
     },
     "execution_count": 11,
     "metadata": {},
     "output_type": "execute_result"
    }
   ],
   "source": [
    "fi.keys()"
   ]
  },
  {
   "cell_type": "code",
   "execution_count": 12,
   "metadata": {},
   "outputs": [
    {
     "data": {
      "text/plain": [
       "{'data': {'active': {'charts': {'dtd': {'change': 0.13476629136812646},\n",
       "    'm1': {'change': -1.8545400619502928},\n",
       "    'y1': {'change': 7.388511435281604},\n",
       "    'ytd': {'change': 4.892717271236193}},\n",
       "   'fininfo': {'base': {'name': 'Euro'},\n",
       "    'currency': {'name': 'US Dollar'},\n",
       "    'description': \"EUR/USD is an exchange rate that specifies how many USD (United States Dollar) can be converted into one EUR (Euro), therefore the base currency is EUR and the price currency is USD. If this rate declines, it means that USD appreciates relative to EUR and if this rate increases it means that the USD depreciates against the EUR. There are many macroeconomic factors/events (fundamentals) that affect EUR/USD exchange rate, which are usually common in both countries. Some of the most notable factors/events are GDP, Inflation or Consumer Price Index (CPI),  Interest Rates and other monetary policies applied by central banks. From the period since 2015 the exchange rate reached the lowest value of 1.04 in Dec of 2016 and the highest of 1.17 in Aug of 2017. Regarding the trade relationship between Eurozone and United States, the latter imports 10% of Eurozone's total exports, whereas Eurozone imports 19.2% of United States's total exports. The largest component of Eurozone's exports are machinery, nuclear reactor, boiler products and vehicles whereas United States's largest export components are machinery, nuclear reactor, boiler products and electrical/electronic equipment. Any significant shifts in the trade relationship between the two regions  and changes in the values of the aforementioned components are some of the factors that could have a material impact on the pair.\",\n",
       "    'type': 'major'},\n",
       "   'id': 1,\n",
       "   'index_fininfo': {},\n",
       "   'media': {'siteBackground': 'https://static.cdnpub.info/files/storage/public/5d/65/068c601b09g7e4c0h4.jpg'},\n",
       "   'name': 'EUR/USD',\n",
       "   'ticker': 'EURUSD'}}}"
      ]
     },
     "execution_count": 12,
     "metadata": {},
     "output_type": "execute_result"
    }
   ],
   "source": [
    "fi['msg']"
   ]
  },
  {
   "cell_type": "code",
   "execution_count": 13,
   "metadata": {},
   "outputs": [
    {
     "data": {
      "text/plain": [
       "{'active': {'charts': {'dtd': {'change': 0.13476629136812646},\n",
       "   'm1': {'change': -1.8545400619502928},\n",
       "   'y1': {'change': 7.388511435281604},\n",
       "   'ytd': {'change': 4.892717271236193}},\n",
       "  'fininfo': {'base': {'name': 'Euro'},\n",
       "   'currency': {'name': 'US Dollar'},\n",
       "   'description': \"EUR/USD is an exchange rate that specifies how many USD (United States Dollar) can be converted into one EUR (Euro), therefore the base currency is EUR and the price currency is USD. If this rate declines, it means that USD appreciates relative to EUR and if this rate increases it means that the USD depreciates against the EUR. There are many macroeconomic factors/events (fundamentals) that affect EUR/USD exchange rate, which are usually common in both countries. Some of the most notable factors/events are GDP, Inflation or Consumer Price Index (CPI),  Interest Rates and other monetary policies applied by central banks. From the period since 2015 the exchange rate reached the lowest value of 1.04 in Dec of 2016 and the highest of 1.17 in Aug of 2017. Regarding the trade relationship between Eurozone and United States, the latter imports 10% of Eurozone's total exports, whereas Eurozone imports 19.2% of United States's total exports. The largest component of Eurozone's exports are machinery, nuclear reactor, boiler products and vehicles whereas United States's largest export components are machinery, nuclear reactor, boiler products and electrical/electronic equipment. Any significant shifts in the trade relationship between the two regions  and changes in the values of the aforementioned components are some of the factors that could have a material impact on the pair.\",\n",
       "   'type': 'major'},\n",
       "  'id': 1,\n",
       "  'index_fininfo': {},\n",
       "  'media': {'siteBackground': 'https://static.cdnpub.info/files/storage/public/5d/65/068c601b09g7e4c0h4.jpg'},\n",
       "  'name': 'EUR/USD',\n",
       "  'ticker': 'EURUSD'}}"
      ]
     },
     "execution_count": 13,
     "metadata": {},
     "output_type": "execute_result"
    }
   ],
   "source": [
    "fi['msg']['data']"
   ]
  },
  {
   "cell_type": "code",
   "execution_count": 14,
   "metadata": {},
   "outputs": [
    {
     "data": {
      "text/plain": [
       "{'charts': {'dtd': {'change': 0.13476629136812646},\n",
       "  'm1': {'change': -1.8545400619502928},\n",
       "  'y1': {'change': 7.388511435281604},\n",
       "  'ytd': {'change': 4.892717271236193}},\n",
       " 'fininfo': {'base': {'name': 'Euro'},\n",
       "  'currency': {'name': 'US Dollar'},\n",
       "  'description': \"EUR/USD is an exchange rate that specifies how many USD (United States Dollar) can be converted into one EUR (Euro), therefore the base currency is EUR and the price currency is USD. If this rate declines, it means that USD appreciates relative to EUR and if this rate increases it means that the USD depreciates against the EUR. There are many macroeconomic factors/events (fundamentals) that affect EUR/USD exchange rate, which are usually common in both countries. Some of the most notable factors/events are GDP, Inflation or Consumer Price Index (CPI),  Interest Rates and other monetary policies applied by central banks. From the period since 2015 the exchange rate reached the lowest value of 1.04 in Dec of 2016 and the highest of 1.17 in Aug of 2017. Regarding the trade relationship between Eurozone and United States, the latter imports 10% of Eurozone's total exports, whereas Eurozone imports 19.2% of United States's total exports. The largest component of Eurozone's exports are machinery, nuclear reactor, boiler products and vehicles whereas United States's largest export components are machinery, nuclear reactor, boiler products and electrical/electronic equipment. Any significant shifts in the trade relationship between the two regions  and changes in the values of the aforementioned components are some of the factors that could have a material impact on the pair.\",\n",
       "  'type': 'major'},\n",
       " 'id': 1,\n",
       " 'index_fininfo': {},\n",
       " 'media': {'siteBackground': 'https://static.cdnpub.info/files/storage/public/5d/65/068c601b09g7e4c0h4.jpg'},\n",
       " 'name': 'EUR/USD',\n",
       " 'ticker': 'EURUSD'}"
      ]
     },
     "execution_count": 14,
     "metadata": {},
     "output_type": "execute_result"
    }
   ],
   "source": [
    "fi['msg']['data']['active']"
   ]
  },
  {
   "cell_type": "code",
   "execution_count": 15,
   "metadata": {},
   "outputs": [
    {
     "data": {
      "text/html": [
       "<img src=\"https://static.cdnpub.info/files/storage/public/5d/65/068c601b09g7e4c0h4.jpg\" width=\"100\" height=\"100\"/>"
      ],
      "text/plain": [
       "<IPython.core.display.Image object>"
      ]
     },
     "execution_count": 15,
     "metadata": {},
     "output_type": "execute_result"
    }
   ],
   "source": [
    "Image(url= fi['msg']['data']['active']['media']['siteBackground'], width=100, height=100)"
   ]
  },
  {
   "cell_type": "markdown",
   "metadata": {},
   "source": [
    "# Plot Financial Candles\n",
    "\n",
    "```python\n",
    "    goal=\"EURUSD\"\n",
    "    print(\"get candles\")\n",
    "    print(I_want_money.get_candles(goal,60,111,time.time()))\n",
    "```"
   ]
  },
  {
   "cell_type": "code",
   "execution_count": 16,
   "metadata": {},
   "outputs": [],
   "source": [
    "#interval:duration of candles (in seconds), 1 minute = 60\n",
    "#count:how many candles you want to get from now to past -> max=1000\n",
    "candles = API.get_candles(ACTIVES='EURUSD', interval=60, count=1000, endtime=time.time())"
   ]
  },
  {
   "cell_type": "code",
   "execution_count": 17,
   "metadata": {},
   "outputs": [
    {
     "data": {
      "text/plain": [
       "{'id': 1089357,\n",
       " 'from': 1601500620,\n",
       " 'at': 1601500680024333233,\n",
       " 'to': 1601500680,\n",
       " 'open': 1.1723,\n",
       " 'close': 1.17233,\n",
       " 'min': 1.1723,\n",
       " 'max': 1.17233,\n",
       " 'volume': 3}"
      ]
     },
     "execution_count": 17,
     "metadata": {},
     "output_type": "execute_result"
    }
   ],
   "source": [
    "candles[0]"
   ]
  },
  {
   "cell_type": "code",
   "execution_count": 18,
   "metadata": {},
   "outputs": [
    {
     "data": {
      "text/plain": [
       "1000"
      ]
     },
     "execution_count": 18,
     "metadata": {},
     "output_type": "execute_result"
    }
   ],
   "source": [
    "len(candles)"
   ]
  },
  {
   "cell_type": "code",
   "execution_count": 19,
   "metadata": {},
   "outputs": [
    {
     "data": {
      "text/plain": [
       "'2020-09-30 21:18:00'"
      ]
     },
     "execution_count": 19,
     "metadata": {},
     "output_type": "execute_result"
    }
   ],
   "source": [
    "datetime.utcfromtimestamp(candles[0]['to']).strftime('%Y-%m-%d %H:%M:%S')"
   ]
  },
  {
   "cell_type": "code",
   "execution_count": 20,
   "metadata": {},
   "outputs": [],
   "source": [
    "dct_struct = {'Date':[], 'Open':[], 'Close':[], 'High':[], 'Low':[], 'Volume':[]}"
   ]
  },
  {
   "cell_type": "code",
   "execution_count": 21,
   "metadata": {},
   "outputs": [],
   "source": [
    "def convert_timestamp(x, pattern='%Y-%m-%d %H:%M:%S'):\n",
    "    return datetime.utcfromtimestamp(x).strftime(pattern)"
   ]
  },
  {
   "cell_type": "code",
   "execution_count": 22,
   "metadata": {},
   "outputs": [],
   "source": [
    "for candle in candles:\n",
    "    dct_struct['Open'].append(candle['open'])\n",
    "    dct_struct['Close'].append(candle['close'])\n",
    "    dct_struct['High'].append(candle['max'])\n",
    "    dct_struct['Low'].append(candle['min'])\n",
    "    dct_struct['Volume'].append(candle['volume'])\n",
    "    dct_struct['Date'].append(convert_timestamp(candle['to']))"
   ]
  },
  {
   "cell_type": "code",
   "execution_count": 23,
   "metadata": {},
   "outputs": [
    {
     "data": {
      "text/html": [
       "<div>\n",
       "<style scoped>\n",
       "    .dataframe tbody tr th:only-of-type {\n",
       "        vertical-align: middle;\n",
       "    }\n",
       "\n",
       "    .dataframe tbody tr th {\n",
       "        vertical-align: top;\n",
       "    }\n",
       "\n",
       "    .dataframe thead th {\n",
       "        text-align: right;\n",
       "    }\n",
       "</style>\n",
       "<table border=\"1\" class=\"dataframe\">\n",
       "  <thead>\n",
       "    <tr style=\"text-align: right;\">\n",
       "      <th></th>\n",
       "      <th>Date</th>\n",
       "      <th>Open</th>\n",
       "      <th>Close</th>\n",
       "      <th>High</th>\n",
       "      <th>Low</th>\n",
       "      <th>Volume</th>\n",
       "    </tr>\n",
       "  </thead>\n",
       "  <tbody>\n",
       "    <tr>\n",
       "      <th>0</th>\n",
       "      <td>2020-09-30 21:18:00</td>\n",
       "      <td>1.17230</td>\n",
       "      <td>1.17233</td>\n",
       "      <td>1.17233</td>\n",
       "      <td>1.17230</td>\n",
       "      <td>3</td>\n",
       "    </tr>\n",
       "    <tr>\n",
       "      <th>1</th>\n",
       "      <td>2020-09-30 21:19:00</td>\n",
       "      <td>1.17233</td>\n",
       "      <td>1.17235</td>\n",
       "      <td>1.17235</td>\n",
       "      <td>1.17233</td>\n",
       "      <td>1</td>\n",
       "    </tr>\n",
       "  </tbody>\n",
       "</table>\n",
       "</div>"
      ],
      "text/plain": [
       "                  Date     Open    Close     High      Low  Volume\n",
       "0  2020-09-30 21:18:00  1.17230  1.17233  1.17233  1.17230       3\n",
       "1  2020-09-30 21:19:00  1.17233  1.17235  1.17235  1.17233       1"
      ]
     },
     "execution_count": 23,
     "metadata": {},
     "output_type": "execute_result"
    }
   ],
   "source": [
    "candles_df = pd.DataFrame(dct_struct)\n",
    "candles_df.head(2)"
   ]
  },
  {
   "cell_type": "code",
   "execution_count": 24,
   "metadata": {},
   "outputs": [
    {
     "data": {
      "text/html": [
       "<div>\n",
       "<style scoped>\n",
       "    .dataframe tbody tr th:only-of-type {\n",
       "        vertical-align: middle;\n",
       "    }\n",
       "\n",
       "    .dataframe tbody tr th {\n",
       "        vertical-align: top;\n",
       "    }\n",
       "\n",
       "    .dataframe thead th {\n",
       "        text-align: right;\n",
       "    }\n",
       "</style>\n",
       "<table border=\"1\" class=\"dataframe\">\n",
       "  <thead>\n",
       "    <tr style=\"text-align: right;\">\n",
       "      <th></th>\n",
       "      <th>Date</th>\n",
       "      <th>Open</th>\n",
       "      <th>Close</th>\n",
       "      <th>High</th>\n",
       "      <th>Low</th>\n",
       "      <th>Volume</th>\n",
       "    </tr>\n",
       "    <tr>\n",
       "      <th>Date</th>\n",
       "      <th></th>\n",
       "      <th></th>\n",
       "      <th></th>\n",
       "      <th></th>\n",
       "      <th></th>\n",
       "      <th></th>\n",
       "    </tr>\n",
       "  </thead>\n",
       "  <tbody>\n",
       "    <tr>\n",
       "      <th>2020-09-30 21:18:00</th>\n",
       "      <td>2020-09-30 21:18:00</td>\n",
       "      <td>1.17230</td>\n",
       "      <td>1.17233</td>\n",
       "      <td>1.17233</td>\n",
       "      <td>1.17230</td>\n",
       "      <td>3</td>\n",
       "    </tr>\n",
       "    <tr>\n",
       "      <th>2020-09-30 21:19:00</th>\n",
       "      <td>2020-09-30 21:19:00</td>\n",
       "      <td>1.17233</td>\n",
       "      <td>1.17235</td>\n",
       "      <td>1.17235</td>\n",
       "      <td>1.17233</td>\n",
       "      <td>1</td>\n",
       "    </tr>\n",
       "  </tbody>\n",
       "</table>\n",
       "</div>"
      ],
      "text/plain": [
       "                                    Date     Open    Close     High      Low  \\\n",
       "Date                                                                           \n",
       "2020-09-30 21:18:00  2020-09-30 21:18:00  1.17230  1.17233  1.17233  1.17230   \n",
       "2020-09-30 21:19:00  2020-09-30 21:19:00  1.17233  1.17235  1.17235  1.17233   \n",
       "\n",
       "                     Volume  \n",
       "Date                         \n",
       "2020-09-30 21:18:00       3  \n",
       "2020-09-30 21:19:00       1  "
      ]
     },
     "execution_count": 24,
     "metadata": {},
     "output_type": "execute_result"
    }
   ],
   "source": [
    "# Converting the index as date\n",
    "candles_df.index = pd.to_datetime(candles_df.Date)\n",
    "candles_df.head(2)"
   ]
  },
  {
   "cell_type": "code",
   "execution_count": 25,
   "metadata": {},
   "outputs": [
    {
     "data": {
      "image/png": "[encoded data removed]",
      "text/plain": [
       "<Figure size 800x575 with 4 Axes>"
      ]
     },
     "metadata": {},
     "output_type": "display_data"
    }
   ],
   "source": [
    "mpf.plot(candles_df,type='candle',mav=(7,12),show_nontrading=True,volume=True)"
   ]
  },
  {
   "cell_type": "markdown",
   "metadata": {},
   "source": [
    "# Create Dataset"
   ]
  },
  {
   "cell_type": "code",
   "execution_count": 26,
   "metadata": {},
   "outputs": [],
   "source": [
    "dataset_dt_pattern = '%Y-%#m-%#d'\n",
    "start_dt = convert_timestamp(candles[0]['to'], dataset_dt_pattern)\n",
    "end_dt = convert_timestamp(candles[-1]['to'], dataset_dt_pattern)\n",
    "\n",
    "candles_df.to_csv('datasets/candles_iqoption_' +start_dt+ '_' +end_dt+ '.csv')"
   ]
  },
  {
   "cell_type": "markdown",
   "metadata": {},
   "source": [
    "# Estimate Occurrences"
   ]
  },
  {
   "cell_type": "code",
   "execution_count": 27,
   "metadata": {},
   "outputs": [
    {
     "data": {
      "text/plain": [
       "{'id': 1089357,\n",
       " 'from': 1601500620,\n",
       " 'at': 1601500680024333233,\n",
       " 'to': 1601500680,\n",
       " 'open': 1.1723,\n",
       " 'close': 1.17233,\n",
       " 'min': 1.1723,\n",
       " 'max': 1.17233,\n",
       " 'volume': 3}"
      ]
     },
     "execution_count": 27,
     "metadata": {},
     "output_type": "execute_result"
    }
   ],
   "source": [
    "candles[0]"
   ]
  },
  {
   "cell_type": "code",
   "execution_count": 28,
   "metadata": {},
   "outputs": [],
   "source": [
    "variants = []\n",
    "for candle in candles:\n",
    "    if candle['close'] > candle['open']:\n",
    "        variants.append('positive')\n",
    "    elif candle['close'] == candle['open']:\n",
    "        variants.append('neutro')\n",
    "    else:\n",
    "        variants.append('negative')"
   ]
  },
  {
   "cell_type": "code",
   "execution_count": 29,
   "metadata": {},
   "outputs": [
    {
     "data": {
      "text/html": [
       "<div>\n",
       "<style scoped>\n",
       "    .dataframe tbody tr th:only-of-type {\n",
       "        vertical-align: middle;\n",
       "    }\n",
       "\n",
       "    .dataframe tbody tr th {\n",
       "        vertical-align: top;\n",
       "    }\n",
       "\n",
       "    .dataframe thead th {\n",
       "        text-align: right;\n",
       "    }\n",
       "</style>\n",
       "<table border=\"1\" class=\"dataframe\">\n",
       "  <thead>\n",
       "    <tr style=\"text-align: right;\">\n",
       "      <th></th>\n",
       "      <th>variants</th>\n",
       "    </tr>\n",
       "  </thead>\n",
       "  <tbody>\n",
       "    <tr>\n",
       "      <th>0</th>\n",
       "      <td>positive</td>\n",
       "    </tr>\n",
       "    <tr>\n",
       "      <th>1</th>\n",
       "      <td>positive</td>\n",
       "    </tr>\n",
       "    <tr>\n",
       "      <th>2</th>\n",
       "      <td>neutro</td>\n",
       "    </tr>\n",
       "    <tr>\n",
       "      <th>3</th>\n",
       "      <td>positive</td>\n",
       "    </tr>\n",
       "    <tr>\n",
       "      <th>4</th>\n",
       "      <td>positive</td>\n",
       "    </tr>\n",
       "  </tbody>\n",
       "</table>\n",
       "</div>"
      ],
      "text/plain": [
       "   variants\n",
       "0  positive\n",
       "1  positive\n",
       "2    neutro\n",
       "3  positive\n",
       "4  positive"
      ]
     },
     "execution_count": 29,
     "metadata": {},
     "output_type": "execute_result"
    }
   ],
   "source": [
    "vdf = pd.DataFrame()\n",
    "vdf['variants'] = variants\n",
    "vdf.head()"
   ]
  },
  {
   "cell_type": "code",
   "execution_count": 30,
   "metadata": {},
   "outputs": [],
   "source": [
    "vdf_gp = vdf.groupby([vdf['variants'].ne(vdf['variants'].shift()).cumsum(), 'variants']).size()"
   ]
  },
  {
   "cell_type": "code",
   "execution_count": 31,
   "metadata": {},
   "outputs": [
    {
     "data": {
      "text/plain": [
       "<AxesSubplot:xlabel='variants,variants'>"
      ]
     },
     "execution_count": 31,
     "metadata": {},
     "output_type": "execute_result"
    },
    {
     "data": {
      "image/png": "[encoded data removed]",
      "text/plain": [
       "<Figure size 2500x500 with 1 Axes>"
      ]
     },
     "metadata": {},
     "output_type": "display_data"
    }
   ],
   "source": [
    "vdf_gp.plot(figsize=(25,5))"
   ]
  },
  {
   "cell_type": "code",
   "execution_count": 32,
   "metadata": {},
   "outputs": [
    {
     "data": {
      "text/plain": [
       "16"
      ]
     },
     "execution_count": 32,
     "metadata": {},
     "output_type": "execute_result"
    }
   ],
   "source": [
    "vdf_gp.max()"
   ]
  },
  {
   "cell_type": "code",
   "execution_count": 33,
   "metadata": {},
   "outputs": [
    {
     "data": {
      "text/plain": [
       "1     337\n",
       "2     136\n",
       "3      64\n",
       "4      20\n",
       "5      10\n",
       "6       5\n",
       "8       2\n",
       "16      1\n",
       "7       1\n",
       "dtype: int64"
      ]
     },
     "execution_count": 33,
     "metadata": {},
     "output_type": "execute_result"
    }
   ],
   "source": [
    "vdf_gp.value_counts()"
   ]
  },
  {
   "cell_type": "code",
   "execution_count": 34,
   "metadata": {},
   "outputs": [
    {
     "data": {
      "text/plain": [
       "576"
      ]
     },
     "execution_count": 34,
     "metadata": {},
     "output_type": "execute_result"
    }
   ],
   "source": [
    "vdf_gp.value_counts().sum()"
   ]
  },
  {
   "cell_type": "code",
   "execution_count": 35,
   "metadata": {},
   "outputs": [
    {
     "data": {
      "text/plain": [
       "'2020-09-30 21:18:00'"
      ]
     },
     "execution_count": 35,
     "metadata": {},
     "output_type": "execute_result"
    }
   ],
   "source": [
    "start_dt_chart = convert_timestamp(candles[0]['to'])\n",
    "start_dt_chart"
   ]
  },
  {
   "cell_type": "code",
   "execution_count": 36,
   "metadata": {},
   "outputs": [
    {
     "data": {
      "text/plain": [
       "'2020-10-01 13:57:00'"
      ]
     },
     "execution_count": 36,
     "metadata": {},
     "output_type": "execute_result"
    }
   ],
   "source": [
    "end_dt_chart = convert_timestamp(candles[-1]['to'])\n",
    "end_dt_chart"
   ]
  },
  {
   "cell_type": "code",
   "execution_count": 37,
   "metadata": {},
   "outputs": [
    {
     "data": {
      "text/plain": [
       "defaultdict(<function iqoptionapi.stable_api.nested_dict.<locals>.<lambda>()>,\n",
       "            {'binary': defaultdict(<function iqoptionapi.stable_api.nested_dict.<locals>.<lambda>()>,\n",
       "                         {'USDPLN': defaultdict(dict, {'open': False}),\n",
       "                          'USDHKD': defaultdict(dict, {'open': False}),\n",
       "                          'GBPUSD': defaultdict(dict, {'open': True}),\n",
       "                          'NZDUSD-OTC': defaultdict(dict, {'open': False}),\n",
       "                          'AUDCAD-OTC': defaultdict(dict, {'open': False}),\n",
       "                          'USDSGD': defaultdict(dict, {'open': False}),\n",
       "                          'USDCHF-OTC': defaultdict(dict, {'open': False}),\n",
       "                          'CADCHF': defaultdict(dict, {'open': True}),\n",
       "                          'EURNZD': defaultdict(dict, {'open': True}),\n",
       "                          'GBPNZD': defaultdict(dict, {'open': True}),\n",
       "                          'AUDCHF': defaultdict(dict, {'open': True}),\n",
       "                          'EURUSD-OTC': defaultdict(dict, {'open': False}),\n",
       "                          'EURUSD': defaultdict(dict, {'open': True}),\n",
       "                          'USDRUB': defaultdict(dict, {'open': False}),\n",
       "                          'GBPUSD-OTC': defaultdict(dict, {'open': False}),\n",
       "                          'USDCAD': defaultdict(dict, {'open': True}),\n",
       "                          'AUDJPY': defaultdict(dict, {'open': True}),\n",
       "                          'GBPJPY': defaultdict(dict, {'open': True}),\n",
       "                          'EURAUD': defaultdict(dict, {'open': True}),\n",
       "                          'EURCHF': defaultdict(dict, {'open': False}),\n",
       "                          'USDTRY': defaultdict(dict, {'open': False}),\n",
       "                          'EURGBP': defaultdict(dict, {'open': True}),\n",
       "                          'USDJPY': defaultdict(dict, {'open': True}),\n",
       "                          'AUDCAD': defaultdict(dict, {'open': True}),\n",
       "                          'USDCHF': defaultdict(dict, {'open': True}),\n",
       "                          'EURGBP-OTC': defaultdict(dict, {'open': False}),\n",
       "                          'GBPCHF': defaultdict(dict, {'open': True}),\n",
       "                          'USDZAR': defaultdict(dict, {'open': False}),\n",
       "                          'GBPAUD': defaultdict(dict, {'open': True}),\n",
       "                          'AUDNZD': defaultdict(dict, {'open': True}),\n",
       "                          'USDNOK': defaultdict(dict, {'open': True}),\n",
       "                          'AUDUSD': defaultdict(dict, {'open': True}),\n",
       "                          'GBPCAD': defaultdict(dict, {'open': True}),\n",
       "                          'USDINR': defaultdict(dict, {'open': False}),\n",
       "                          'USDBRL': defaultdict(dict, {'open': False}),\n",
       "                          'EURJPY': defaultdict(dict, {'open': True}),\n",
       "                          'NZDUSD': defaultdict(dict, {'open': True}),\n",
       "                          'EURCAD': defaultdict(dict, {'open': True}),\n",
       "                          'COKE': defaultdict(dict, {'open': True}),\n",
       "                          'JPM': defaultdict(dict, {'open': True}),\n",
       "                          'MCDON': defaultdict(dict, {'open': True}),\n",
       "                          'YANDEX': defaultdict(dict, {'open': True}),\n",
       "                          'MSFT': defaultdict(dict, {'open': True}),\n",
       "                          'MORSTAN': defaultdict(dict, {'open': True}),\n",
       "                          'GS': defaultdict(dict, {'open': True}),\n",
       "                          'BAIDU': defaultdict(dict, {'open': True}),\n",
       "                          'TESLA': defaultdict(dict, {'open': True}),\n",
       "                          'GOOGLE': defaultdict(dict, {'open': True}),\n",
       "                          'ALIBABA': defaultdict(dict, {'open': True}),\n",
       "                          'FACEBOOK': defaultdict(dict, {'open': True}),\n",
       "                          'INTEL': defaultdict(dict, {'open': True}),\n",
       "                          'NIKE': defaultdict(dict, {'open': True}),\n",
       "                          'AMAZON': defaultdict(dict, {'open': True}),\n",
       "                          'CITI': defaultdict(dict, {'open': True}),\n",
       "                          'TWITTER': defaultdict(dict, {'open': True}),\n",
       "                          'APPLE': defaultdict(dict, {'open': True})}),\n",
       "             'turbo': defaultdict(<function iqoptionapi.stable_api.nested_dict.<locals>.<lambda>()>,\n",
       "                         {'GBPUSD': defaultdict(dict, {'open': True}),\n",
       "                          'NZDUSD-OTC': defaultdict(dict, {'open': False}),\n",
       "                          'AUDCAD-OTC': defaultdict(dict, {'open': False}),\n",
       "                          'USDCHF-OTC': defaultdict(dict, {'open': False}),\n",
       "                          'CADCHF': defaultdict(dict, {'open': False}),\n",
       "                          'EURNZD': defaultdict(dict, {'open': False}),\n",
       "                          'GBPNZD': defaultdict(dict, {'open': True}),\n",
       "                          'EURJPY-OTC': defaultdict(dict, {'open': False}),\n",
       "                          'CADJPY': defaultdict(dict, {'open': True}),\n",
       "                          'EURUSD-OTC': defaultdict(dict, {'open': False}),\n",
       "                          'EURUSD': defaultdict(dict, {'open': True}),\n",
       "                          'GBPUSD-OTC': defaultdict(dict, {'open': False}),\n",
       "                          'USDCAD': defaultdict(dict, {'open': False}),\n",
       "                          'AUDJPY': defaultdict(dict, {'open': True}),\n",
       "                          'GBPJPY': defaultdict(dict, {'open': True}),\n",
       "                          'EURAUD': defaultdict(dict, {'open': False}),\n",
       "                          'EURCHF': defaultdict(dict, {'open': False}),\n",
       "                          'EURGBP': defaultdict(dict, {'open': True}),\n",
       "                          'USDJPY': defaultdict(dict, {'open': True}),\n",
       "                          'AUDCAD': defaultdict(dict, {'open': True}),\n",
       "                          'USDCHF': defaultdict(dict, {'open': True}),\n",
       "                          'EURGBP-OTC': defaultdict(dict, {'open': False}),\n",
       "                          'GBPCHF': defaultdict(dict, {'open': True}),\n",
       "                          'GBPAUD': defaultdict(dict, {'open': True}),\n",
       "                          'AUDUSD': defaultdict(dict, {'open': True}),\n",
       "                          'GBPCAD': defaultdict(dict, {'open': True}),\n",
       "                          'CHFJPY': defaultdict(dict, {'open': True}),\n",
       "                          'EURJPY': defaultdict(dict, {'open': False}),\n",
       "                          'NZDUSD': defaultdict(dict, {'open': False}),\n",
       "                          'EURCAD': defaultdict(dict, {'open': False})}),\n",
       "             'digital': defaultdict(<function iqoptionapi.stable_api.nested_dict.<locals>.<lambda>()>,\n",
       "                         {'EURUSD': defaultdict(dict, {'open': True}),\n",
       "                          'EURGBP': defaultdict(dict, {'open': True}),\n",
       "                          'GBPJPY': defaultdict(dict, {'open': True}),\n",
       "                          'EURJPY': defaultdict(dict, {'open': True}),\n",
       "                          'GBPUSD': defaultdict(dict, {'open': True}),\n",
       "                          'USDJPY': defaultdict(dict, {'open': True}),\n",
       "                          'AUDCAD': defaultdict(dict, {'open': True}),\n",
       "                          'EURUSD-OTC': defaultdict(dict, {'open': False}),\n",
       "                          'EURGBP-OTC': defaultdict(dict, {'open': False}),\n",
       "                          'EURJPY-OTC': defaultdict(dict, {'open': False}),\n",
       "                          'NZDUSD-OTC': defaultdict(dict, {'open': False}),\n",
       "                          'GBPUSD-OTC': defaultdict(dict, {'open': False}),\n",
       "                          'GBPJPY-OTC': defaultdict(dict, {'open': False}),\n",
       "                          'USDJPY-OTC': defaultdict(dict, {'open': False}),\n",
       "                          'AUDUSD': defaultdict(dict, {'open': True}),\n",
       "                          'USDCAD': defaultdict(dict, {'open': True}),\n",
       "                          'AUDJPY': defaultdict(dict, {'open': True}),\n",
       "                          'GBPCAD': defaultdict(dict, {'open': True}),\n",
       "                          'GBPCHF': defaultdict(dict, {'open': True})}),\n",
       "             'cfd': defaultdict(<function iqoptionapi.stable_api.nested_dict.<locals>.<lambda>()>,\n",
       "                         {'FXI': defaultdict(dict, {'open': True}),\n",
       "                          'IBM:US': defaultdict(dict, {'open': True}),\n",
       "                          'IDXX': defaultdict(dict, {'open': True}),\n",
       "                          'AIRP-CHIX': defaultdict(dict, {'open': True}),\n",
       "                          'ABBV:US': defaultdict(dict, {'open': True}),\n",
       "                          'CXO:US': defaultdict(dict, {'open': True}),\n",
       "                          'VZ:US': defaultdict(dict, {'open': True}),\n",
       "                          'ULVRL-CHIX': defaultdict(dict, {'open': True}),\n",
       "                          'LMT:US': defaultdict(dict, {'open': True}),\n",
       "                          'VIAC': defaultdict(dict, {'open': True}),\n",
       "                          'ETR:US': defaultdict(dict, {'open': True}),\n",
       "                          'FCAM-CHIX': defaultdict(dict, {'open': True}),\n",
       "                          'NVDA:US': defaultdict(dict, {'open': True}),\n",
       "                          'EOAND-CHIX': defaultdict(dict, {'open': True}),\n",
       "                          'CTXS:US': defaultdict(dict, {'open': True}),\n",
       "                          'BBVAE-CHIX': defaultdict(dict, {'open': True}),\n",
       "                          'PM:US': defaultdict(dict, {'open': True}),\n",
       "                          'ED:US': defaultdict(dict, {'open': True}),\n",
       "                          'NFLX:US': defaultdict(dict, {'open': True}),\n",
       "                          'ALVD-CHIX': defaultdict(dict, {'open': True}),\n",
       "                          'SLB:US': defaultdict(dict, {'open': True}),\n",
       "                          'XLY': defaultdict(dict, {'open': True}),\n",
       "                          'BHPl-CHIX': defaultdict(dict, {'open': True}),\n",
       "                          'MJ': defaultdict(dict, {'open': True}),\n",
       "                          'ATVI:US': defaultdict(dict, {'open': True}),\n",
       "                          'HAS:US': defaultdict(dict, {'open': True}),\n",
       "                          'BMY:US': defaultdict(dict, {'open': True}),\n",
       "                          'EQR:US': defaultdict(dict, {'open': True}),\n",
       "                          'SU': defaultdict(dict, {'open': True}),\n",
       "                          'CTAS:US': defaultdict(dict, {'open': True}),\n",
       "                          'MORSTAN': defaultdict(dict, {'open': True}),\n",
       "                          'DVN:US': defaultdict(dict, {'open': True}),\n",
       "                          'XME': defaultdict(dict, {'open': True}),\n",
       "                          'FDJP': defaultdict(dict, {'open': True}),\n",
       "                          'BA:US': defaultdict(dict, {'open': True}),\n",
       "                          'GWPH': defaultdict(dict, {'open': True}),\n",
       "                          'XLK': defaultdict(dict, {'open': True}),\n",
       "                          'DBX': defaultdict(dict, {'open': True}),\n",
       "                          'FIS:US': defaultdict(dict, {'open': True}),\n",
       "                          'MMM:US': defaultdict(dict, {'open': True}),\n",
       "                          'DAID-CHIX': defaultdict(dict, {'open': True}),\n",
       "                          'BAIDU': defaultdict(dict, {'open': True}),\n",
       "                          'WMT:US': defaultdict(dict, {'open': True}),\n",
       "                          'XOM:US': defaultdict(dict, {'open': True}),\n",
       "                          'RTN:US': defaultdict(dict, {'open': True}),\n",
       "                          'EBAY:US': defaultdict(dict, {'open': True}),\n",
       "                          'DISCA:US': defaultdict(dict, {'open': True}),\n",
       "                          'MSFT': defaultdict(dict, {'open': True}),\n",
       "                          'CVX:US': defaultdict(dict, {'open': True}),\n",
       "                          'WORK': defaultdict(dict, {'open': True}),\n",
       "                          'LLOYL-CHIX': defaultdict(dict, {'open': True}),\n",
       "                          'TLT': defaultdict(dict, {'open': True}),\n",
       "                          'ADSD-CHIX': defaultdict(dict, {'open': True}),\n",
       "                          'CMCSA:US': defaultdict(dict, {'open': True}),\n",
       "                          'DHR:US': defaultdict(dict, {'open': True}),\n",
       "                          'ALGN': defaultdict(dict, {'open': True}),\n",
       "                          'VOW3D-CHIX': defaultdict(dict, {'open': True}),\n",
       "                          'FISV:US': defaultdict(dict, {'open': True}),\n",
       "                          'ORP-CHIX': defaultdict(dict, {'open': True}),\n",
       "                          'DHI:US': defaultdict(dict, {'open': True}),\n",
       "                          'DTED-CHIX': defaultdict(dict, {'open': True}),\n",
       "                          'GDX': defaultdict(dict, {'open': True}),\n",
       "                          'XAUUSD': defaultdict(dict, {'open': True}),\n",
       "                          'EXR:US': defaultdict(dict, {'open': True}),\n",
       "                          'FERRARI': defaultdict(dict, {'open': True}),\n",
       "                          'IYR': defaultdict(dict, {'open': True}),\n",
       "                          'DOV:US': defaultdict(dict, {'open': True}),\n",
       "                          'HON:US': defaultdict(dict, {'open': True}),\n",
       "                          'MKSL-CHIX': defaultdict(dict, {'open': True}),\n",
       "                          'MANU': defaultdict(dict, {'open': True}),\n",
       "                          'SANE-CHIX': defaultdict(dict, {'open': True}),\n",
       "                          'ABT:US': defaultdict(dict, {'open': True}),\n",
       "                          'UBER': defaultdict(dict, {'open': True}),\n",
       "                          'FMC:US': defaultdict(dict, {'open': True}),\n",
       "                          'SNAP': defaultdict(dict, {'open': True}),\n",
       "                          'TKAD-CHIX': defaultdict(dict, {'open': True}),\n",
       "                          'FBHS:US': defaultdict(dict, {'open': True}),\n",
       "                          'UKOUSD': defaultdict(dict, {'open': True}),\n",
       "                          'COKE': defaultdict(dict, {'open': True}),\n",
       "                          'ESS:US': defaultdict(dict, {'open': True}),\n",
       "                          'MRWL-CHIX': defaultdict(dict, {'open': True}),\n",
       "                          'GILD:US': defaultdict(dict, {'open': True}),\n",
       "                          'MA:US': defaultdict(dict, {'open': True}),\n",
       "                          'LYFT': defaultdict(dict, {'open': True}),\n",
       "                          'DBKD-CHIX': defaultdict(dict, {'open': True}),\n",
       "                          'TMUS': defaultdict(dict, {'open': True}),\n",
       "                          'MCDON': defaultdict(dict, {'open': True}),\n",
       "                          'INTEL': defaultdict(dict, {'open': True}),\n",
       "                          'FITB:US': defaultdict(dict, {'open': True}),\n",
       "                          'BBY:US': defaultdict(dict, {'open': True}),\n",
       "                          'EQT:US': defaultdict(dict, {'open': True}),\n",
       "                          'BPL-CHIX': defaultdict(dict, {'open': True}),\n",
       "                          'ETFC:US': defaultdict(dict, {'open': True}),\n",
       "                          'SYK:US': defaultdict(dict, {'open': True}),\n",
       "                          'PSTM-CHIX': defaultdict(dict, {'open': True}),\n",
       "                          'DIA': defaultdict(dict, {'open': True}),\n",
       "                          'BMWD-CHIX': defaultdict(dict, {'open': True}),\n",
       "                          'PYPL:US': defaultdict(dict, {'open': True}),\n",
       "                          'AA:US': defaultdict(dict, {'open': True}),\n",
       "                          'CVS:US': defaultdict(dict, {'open': True}),\n",
       "                          'IWM': defaultdict(dict, {'open': True}),\n",
       "                          'CRON': defaultdict(dict, {'open': True}),\n",
       "                          'WBA:US': defaultdict(dict, {'open': True}),\n",
       "                          'ANSS': defaultdict(dict, {'open': True}),\n",
       "                          'XLE': defaultdict(dict, {'open': True}),\n",
       "                          'ECL:US': defaultdict(dict, {'open': True}),\n",
       "                          'SBUX:US': defaultdict(dict, {'open': True}),\n",
       "                          'HEIOA-CHIX': defaultdict(dict, {'open': True}),\n",
       "                          'PINS': defaultdict(dict, {'open': True}),\n",
       "                          'DGX:US': defaultdict(dict, {'open': True}),\n",
       "                          'EZJL-CHIX': defaultdict(dict, {'open': True}),\n",
       "                          'AMD': defaultdict(dict, {'open': True}),\n",
       "                          'CL:US': defaultdict(dict, {'open': True}),\n",
       "                          'CRM:US': defaultdict(dict, {'open': True}),\n",
       "                          'QQQ': defaultdict(dict, {'open': True}),\n",
       "                          'DTE:US': defaultdict(dict, {'open': True}),\n",
       "                          'TSCOL-CHIX': defaultdict(dict, {'open': True}),\n",
       "                          'MELI': defaultdict(dict, {'open': True}),\n",
       "                          'FSLR:US': defaultdict(dict, {'open': True}),\n",
       "                          'PFE:US': defaultdict(dict, {'open': True}),\n",
       "                          'EMN:US': defaultdict(dict, {'open': True}),\n",
       "                          'JPM': defaultdict(dict, {'open': True}),\n",
       "                          'QID': defaultdict(dict, {'open': True}),\n",
       "                          'GOOGLE': defaultdict(dict, {'open': True}),\n",
       "                          'HSBAL-CHIX': defaultdict(dict, {'open': True}),\n",
       "                          'DVA:US': defaultdict(dict, {'open': True}),\n",
       "                          'XLU': defaultdict(dict, {'open': True}),\n",
       "                          'PIRCM-CHIX': defaultdict(dict, {'open': True}),\n",
       "                          'BUD': defaultdict(dict, {'open': True}),\n",
       "                          'FRT:US': defaultdict(dict, {'open': True}),\n",
       "                          'CBKD-CHIX': defaultdict(dict, {'open': True}),\n",
       "                          'AMGN:US': defaultdict(dict, {'open': True}),\n",
       "                          'XAGUSD': defaultdict(dict, {'open': True}),\n",
       "                          'RMD': defaultdict(dict, {'open': True}),\n",
       "                          'EFX:US': defaultdict(dict, {'open': True}),\n",
       "                          'DLR:US': defaultdict(dict, {'open': True}),\n",
       "                          'ADBE:US': defaultdict(dict, {'open': True}),\n",
       "                          'ADSK:US': defaultdict(dict, {'open': True}),\n",
       "                          'BARCL-CHIX': defaultdict(dict, {'open': True}),\n",
       "                          'CGC': defaultdict(dict, {'open': True}),\n",
       "                          'SPOT': defaultdict(dict, {'open': True}),\n",
       "                          'SQQQ': defaultdict(dict, {'open': True}),\n",
       "                          'STANL-CHIX': defaultdict(dict, {'open': True}),\n",
       "                          'ALIBABA': defaultdict(dict, {'open': True}),\n",
       "                          'TITM-CHIX': defaultdict(dict, {'open': True}),\n",
       "                          'FCX:US': defaultdict(dict, {'open': True}),\n",
       "                          'ZM': defaultdict(dict, {'open': True}),\n",
       "                          'DAL:US': defaultdict(dict, {'open': True}),\n",
       "                          'TFC': defaultdict(dict, {'open': True}),\n",
       "                          'XLB': defaultdict(dict, {'open': True}),\n",
       "                          'AMAZON': defaultdict(dict, {'open': True}),\n",
       "                          'BYND': defaultdict(dict, {'open': True}),\n",
       "                          'SMH': defaultdict(dict, {'open': True}),\n",
       "                          'SPY': defaultdict(dict, {'open': True}),\n",
       "                          'CAT:US': defaultdict(dict, {'open': True}),\n",
       "                          'COP:US': defaultdict(dict, {'open': True}),\n",
       "                          'FLS:US': defaultdict(dict, {'open': True}),\n",
       "                          'GS': defaultdict(dict, {'open': True}),\n",
       "                          'EIX:US': defaultdict(dict, {'open': True}),\n",
       "                          'USOUSD': defaultdict(dict, {'open': True}),\n",
       "                          'EWW': defaultdict(dict, {'open': True}),\n",
       "                          'GE': defaultdict(dict, {'open': True}),\n",
       "                          'MU:US': defaultdict(dict, {'open': True}),\n",
       "                          'TEFE-CHIX': defaultdict(dict, {'open': True}),\n",
       "                          'PG:US': defaultdict(dict, {'open': True}),\n",
       "                          'ACN:US': defaultdict(dict, {'open': True}),\n",
       "                          'COST:US': defaultdict(dict, {'open': True}),\n",
       "                          'ENIM-CHIX': defaultdict(dict, {'open': True}),\n",
       "                          'MDT:US': defaultdict(dict, {'open': True}),\n",
       "                          'EEM': defaultdict(dict, {'open': True}),\n",
       "                          'EXPD:US': defaultdict(dict, {'open': True}),\n",
       "                          'FACEBOOK': defaultdict(dict, {'open': True}),\n",
       "                          'TESLA': defaultdict(dict, {'open': True}),\n",
       "                          'MRKD-CHIX': defaultdict(dict, {'open': True}),\n",
       "                          'FE:US': defaultdict(dict, {'open': True}),\n",
       "                          'MO:US': defaultdict(dict, {'open': True}),\n",
       "                          'IEMG': defaultdict(dict, {'open': True}),\n",
       "                          'BAYND-CHIX': defaultdict(dict, {'open': True}),\n",
       "                          'UCGM-CHIX': defaultdict(dict, {'open': True}),\n",
       "                          'TLRY': defaultdict(dict, {'open': True}),\n",
       "                          'COND-CHIX': defaultdict(dict, {'open': True}),\n",
       "                          'QCOM:US': defaultdict(dict, {'open': True}),\n",
       "                          'VODL-CHIX': defaultdict(dict, {'open': True}),\n",
       "                          'V:US': defaultdict(dict, {'open': True}),\n",
       "                          'T:US': defaultdict(dict, {'open': True}),\n",
       "                          'TFX': defaultdict(dict, {'open': True}),\n",
       "                          'TWITTER': defaultdict(dict, {'open': True}),\n",
       "                          'RBSL-CHIX': defaultdict(dict, {'open': True}),\n",
       "                          'XOP': defaultdict(dict, {'open': True}),\n",
       "                          'SDS': defaultdict(dict, {'open': True}),\n",
       "                          'DPWD-CHIX': defaultdict(dict, {'open': True}),\n",
       "                          'GM': defaultdict(dict, {'open': True}),\n",
       "                          'BAC:US': defaultdict(dict, {'open': True}),\n",
       "                          'NIKE': defaultdict(dict, {'open': True}),\n",
       "                          'DRI:US': defaultdict(dict, {'open': True}),\n",
       "                          'DFS:US': defaultdict(dict, {'open': True}),\n",
       "                          'EMR:US': defaultdict(dict, {'open': True}),\n",
       "                          'AAP:US': defaultdict(dict, {'open': True}),\n",
       "                          'JUVEM': defaultdict(dict, {'open': True}),\n",
       "                          'DRE': defaultdict(dict, {'open': True}),\n",
       "                          'RRL-CHIX': defaultdict(dict, {'open': True}),\n",
       "                          'DIS:US': defaultdict(dict, {'open': True}),\n",
       "                          'CITI': defaultdict(dict, {'open': True}),\n",
       "                          'CISCO': defaultdict(dict, {'open': True}),\n",
       "                          'APPLE': defaultdict(dict, {'open': True}),\n",
       "                          'EWJ': defaultdict(dict, {'open': True}),\n",
       "                          'FFIV:US': defaultdict(dict, {'open': True}),\n",
       "                          'KHC:US': defaultdict(dict, {'open': True}),\n",
       "                          'BATSL-CHIX': defaultdict(dict, {'open': True}),\n",
       "                          'ENELM-CHIX': defaultdict(dict, {'open': True})}),\n",
       "             'forex': defaultdict(<function iqoptionapi.stable_api.nested_dict.<locals>.<lambda>()>,\n",
       "                         {'EURSGD': defaultdict(dict, {'open': True}),\n",
       "                          'EURJPY': defaultdict(dict, {'open': True}),\n",
       "                          'CADCHF': defaultdict(dict, {'open': True}),\n",
       "                          'EURSEK': defaultdict(dict, {'open': True}),\n",
       "                          'USDDKK': defaultdict(dict, {'open': True}),\n",
       "                          'NZDUSD': defaultdict(dict, {'open': True}),\n",
       "                          'EURCHF': defaultdict(dict, {'open': True}),\n",
       "                          'USDTHB': defaultdict(dict, {'open': True}),\n",
       "                          'AUDUSD': defaultdict(dict, {'open': True}),\n",
       "                          'USDCHF': defaultdict(dict, {'open': True}),\n",
       "                          'SEKJPY': defaultdict(dict, {'open': True}),\n",
       "                          'AUDNZD': defaultdict(dict, {'open': True}),\n",
       "                          'GBPJPY': defaultdict(dict, {'open': True}),\n",
       "                          'EURAUD': defaultdict(dict, {'open': True}),\n",
       "                          'AUDCHF': defaultdict(dict, {'open': True}),\n",
       "                          'AUDCAD': defaultdict(dict, {'open': True}),\n",
       "                          'NZDCHF': defaultdict(dict, {'open': True}),\n",
       "                          'USDSEK': defaultdict(dict, {'open': True}),\n",
       "                          'EURDKK': defaultdict(dict, {'open': True}),\n",
       "                          'EURGBP': defaultdict(dict, {'open': True}),\n",
       "                          'EURCAD': defaultdict(dict, {'open': True}),\n",
       "                          'USDCZK': defaultdict(dict, {'open': True}),\n",
       "                          'EURNZD': defaultdict(dict, {'open': True}),\n",
       "                          'AUDSGD': defaultdict(dict, {'open': True}),\n",
       "                          'NZDCAD': defaultdict(dict, {'open': True}),\n",
       "                          'CHFSGD': defaultdict(dict, {'open': True}),\n",
       "                          'EURHUF': defaultdict(dict, {'open': True}),\n",
       "                          'GBPCAD': defaultdict(dict, {'open': True}),\n",
       "                          'USDTRY': defaultdict(dict, {'open': True}),\n",
       "                          'USDJPY': defaultdict(dict, {'open': True}),\n",
       "                          'EURUSD': defaultdict(dict, {'open': True}),\n",
       "                          'AUDSEK': defaultdict(dict, {'open': True}),\n",
       "                          'USDPLN': defaultdict(dict, {'open': True}),\n",
       "                          'USDCNH': defaultdict(dict, {'open': True}),\n",
       "                          'USDHUF': defaultdict(dict, {'open': True}),\n",
       "                          'CHFJPY': defaultdict(dict, {'open': True}),\n",
       "                          'GBPILS': defaultdict(dict, {'open': True}),\n",
       "                          'NZDJPY': defaultdict(dict, {'open': True}),\n",
       "                          'CADJPY': defaultdict(dict, {'open': True}),\n",
       "                          'GBPUSD': defaultdict(dict, {'open': True}),\n",
       "                          'CADPLN': defaultdict(dict, {'open': True}),\n",
       "                          'NZDSGD': defaultdict(dict, {'open': True}),\n",
       "                          'AUDJPY': defaultdict(dict, {'open': True}),\n",
       "                          'USDCAD': defaultdict(dict, {'open': True})}),\n",
       "             'crypto': defaultdict(<function iqoptionapi.stable_api.nested_dict.<locals>.<lambda>()>,\n",
       "                         {'ETHUSD': defaultdict(dict, {'open': True}),\n",
       "                          'IOTUSD-L': defaultdict(dict, {'open': True}),\n",
       "                          'EOSUSD-L': defaultdict(dict, {'open': True}),\n",
       "                          'QTMUSD': defaultdict(dict, {'open': True}),\n",
       "                          'EOSUSD': defaultdict(dict, {'open': True}),\n",
       "                          'BCHUSD-L': defaultdict(dict, {'open': True}),\n",
       "                          'ATOMUSD-L': defaultdict(dict, {'open': True}),\n",
       "                          'BTCUSD': defaultdict(dict, {'open': True}),\n",
       "                          'TRXUSD': defaultdict(dict, {'open': True}),\n",
       "                          'ONTUSD-L': defaultdict(dict, {'open': True}),\n",
       "                          'XRPUSD-L': defaultdict(dict, {'open': True}),\n",
       "                          'XLMUSD-L': defaultdict(dict, {'open': True}),\n",
       "                          'ETHUSD-L': defaultdict(dict, {'open': True}),\n",
       "                          'ZECUSD': defaultdict(dict, {'open': True}),\n",
       "                          'LTCUSD': defaultdict(dict, {'open': True}),\n",
       "                          'BCHUSD': defaultdict(dict, {'open': True}),\n",
       "                          'NEOUSD-L': defaultdict(dict, {'open': True}),\n",
       "                          'BTCUSD-L': defaultdict(dict, {'open': True}),\n",
       "                          'OMGUSD': defaultdict(dict, {'open': True}),\n",
       "                          'TRXUSD-L': defaultdict(dict, {'open': True}),\n",
       "                          'ADAUSD-L': defaultdict(dict, {'open': True}),\n",
       "                          'DSHUSD': defaultdict(dict, {'open': True}),\n",
       "                          'LTCUSD-L': defaultdict(dict, {'open': True}),\n",
       "                          'XRPUSD': defaultdict(dict, {'open': True}),\n",
       "                          'BNBUSD-L': defaultdict(dict, {'open': True}),\n",
       "                          'ETCUSD': defaultdict(dict, {'open': True})})})"
      ]
     },
     "execution_count": 37,
     "metadata": {},
     "output_type": "execute_result"
    }
   ],
   "source": [
    "pairs"
   ]
  }
 ],
 "metadata": {
  "kernelspec": {
   "display_name": "Python 3",
   "language": "python",
   "name": "python3"
  },
  "language_info": {
   "codemirror_mode": {
    "name": "ipython",
    "version": 3
   },
   "file_extension": ".py",
   "mimetype": "text/x-python",
   "name": "python",
   "nbconvert_exporter": "python",
   "pygments_lexer": "ipython3",
   "version": "3.8.5"
  }
 },
 "nbformat": 4,
 "nbformat_minor": 4
}
