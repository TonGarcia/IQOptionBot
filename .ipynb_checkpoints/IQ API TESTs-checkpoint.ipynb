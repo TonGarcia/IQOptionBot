{
 "cells": [
  {
   "cell_type": "markdown",
   "metadata": {},
   "source": [
    "# Load Dependencies"
   ]
  },
  {
   "cell_type": "code",
   "execution_count": 1,
   "metadata": {},
   "outputs": [],
   "source": [
    "from iqoptionapi.stable_api import IQ_Option\n",
    "import time, json\n",
    "from datetime import datetime\n",
    "from dateutil import tz\n",
    "\n",
    "from IPython.display import Image\n",
    "from IPython.core.display import HTML\n",
    "\n",
    "import mplfinance as mpf\n",
    "import pandas as pd"
   ]
  },
  {
   "cell_type": "markdown",
   "metadata": {},
   "source": [
    "# Estabelecendo Conexão"
   ]
  },
  {
   "cell_type": "code",
   "execution_count": 2,
   "metadata": {},
   "outputs": [
    {
     "name": "stdout",
     "output_type": "stream",
     "text": [
      "Conexão estabelecida!\n"
     ]
    }
   ],
   "source": [
    "API = IQ_Option('ilton.aws@gmail.com', '/ajV@xjzJ-3peBv')\n",
    "\n",
    "API.connect()\n",
    "API.change_balance('PRACTICE')  # PRACTICE / REAL\n",
    "\n",
    "con_tests = 0\n",
    "max_con_test = 10\n",
    "\n",
    "while True:\n",
    "    con_tests = con_tests + 1\n",
    "    if API.check_connect() is False:\n",
    "        print('Erro ao tentar se conectar!')\n",
    "        API.connect()\n",
    "    elif con_tests == max_con_test:\n",
    "        print('(error)Número máximo de tentativas excedidas!')\n",
    "        break\n",
    "    else:\n",
    "        print('Conexão estabelecida!')\n",
    "        break"
   ]
  },
  {
   "cell_type": "markdown",
   "metadata": {},
   "source": [
    "# Requisitando opções em aberto"
   ]
  },
  {
   "cell_type": "code",
   "execution_count": 3,
   "metadata": {},
   "outputs": [],
   "source": [
    "pairs = API.get_all_open_time()\n",
    "payouts = API.get_all_profit()"
   ]
  },
  {
   "cell_type": "markdown",
   "metadata": {},
   "source": [
    "# Definindo Configuração da estratégia de operação"
   ]
  },
  {
   "cell_type": "code",
   "execution_count": 4,
   "metadata": {},
   "outputs": [],
   "source": [
    "min_payout = float(0.84)\n",
    "spend_bid = int(2)\n",
    "timeframe = 1\n",
    "index = 0"
   ]
  },
  {
   "cell_type": "code",
   "execution_count": 5,
   "metadata": {},
   "outputs": [
    {
     "name": "stdout",
     "output_type": "stream",
     "text": [
      "EURNZD\n",
      "defaultdict(<class 'dict'>, {'open': True})\n",
      "EURUSD\n",
      "defaultdict(<class 'dict'>, {'open': True})\n",
      "AUDJPY\n",
      "defaultdict(<class 'dict'>, {'open': True})\n",
      "USDJPY\n",
      "defaultdict(<class 'dict'>, {'open': True})\n",
      "EURAUD\n",
      "defaultdict(<class 'dict'>, {'open': True})\n",
      "AUDUSD\n",
      "defaultdict(<class 'dict'>, {'open': True})\n",
      "EURJPY\n",
      "defaultdict(<class 'dict'>, {'open': True})\n",
      "NZDUSD\n",
      "defaultdict(<class 'dict'>, {'open': True})\n"
     ]
    }
   ],
   "source": [
    "for pair in pairs['binary']:\n",
    "    if pairs['binary'][pair]['open'] is True:# and payout[par] >= payout_min:\n",
    "        print(pair)\n",
    "        print(pairs['binary'][pair])\n",
    "        \n",
    "#         bought, id = API.buy(spend_bid,pair,\"call\",timeframe)\n",
    "#         if bought:\n",
    "#             print(\"Ordem executada com sucesso!\")\n",
    "#         else:\n",
    "#             print(\"Não foi possível executar a ordem!\")"
   ]
  },
  {
   "cell_type": "code",
   "execution_count": 6,
   "metadata": {},
   "outputs": [
    {
     "name": "stdout",
     "output_type": "stream",
     "text": [
      "defaultdict(<class 'dict'>, {'turbo': 0.63, 'binary': 0.6})\n"
     ]
    }
   ],
   "source": [
    "print(payouts['EURUSD'])"
   ]
  },
  {
   "cell_type": "code",
   "execution_count": 7,
   "metadata": {},
   "outputs": [
    {
     "name": "stdout",
     "output_type": "stream",
     "text": [
      "defaultdict(<class 'dict'>, {'binary': 0.6})\n"
     ]
    }
   ],
   "source": [
    "print(payouts['NZDUSD'])"
   ]
  },
  {
   "cell_type": "code",
   "execution_count": 8,
   "metadata": {},
   "outputs": [
    {
     "data": {
      "text/plain": [
       "{'EURUSD': 1,\n",
       " 'EURGBP': 2,\n",
       " 'GBPJPY': 3,\n",
       " 'EURJPY': 4,\n",
       " 'GBPUSD': 5,\n",
       " 'USDJPY': 6,\n",
       " 'AUDCAD': 7,\n",
       " 'NZDUSD': 8,\n",
       " 'USDRUB': 10,\n",
       " 'AMAZON': 31,\n",
       " 'APPLE': 32,\n",
       " 'BAIDU': 33,\n",
       " 'CISCO': 34,\n",
       " 'FACEBOOK': 35,\n",
       " 'GOOGLE': 36,\n",
       " 'INTEL': 37,\n",
       " 'MSFT': 38,\n",
       " 'YAHOO': 40,\n",
       " 'AIG': 41,\n",
       " 'CITI': 45,\n",
       " 'COKE': 46,\n",
       " 'GE': 48,\n",
       " 'GM': 49,\n",
       " 'GS': 50,\n",
       " 'JPM': 51,\n",
       " 'MCDON': 52,\n",
       " 'MORSTAN': 53,\n",
       " 'NIKE': 54,\n",
       " 'USDCHF': 72,\n",
       " 'XAUUSD': 74,\n",
       " 'XAGUSD': 75,\n",
       " 'EURUSD-OTC': 76,\n",
       " 'EURGBP-OTC': 77,\n",
       " 'USDCHF-OTC': 78,\n",
       " 'EURJPY-OTC': 79,\n",
       " 'NZDUSD-OTC': 80,\n",
       " 'GBPUSD-OTC': 81,\n",
       " 'USDJPY-OTC': 85,\n",
       " 'AUDCAD-OTC': 86,\n",
       " 'ALIBABA': 87,\n",
       " 'YANDEX': 95,\n",
       " 'AUDUSD': 99,\n",
       " 'USDCAD': 100,\n",
       " 'AUDJPY': 101,\n",
       " 'GBPCAD': 102,\n",
       " 'GBPCHF': 103,\n",
       " 'GBPAUD': 104,\n",
       " 'EURCAD': 105,\n",
       " 'CHFJPY': 106,\n",
       " 'CADCHF': 107,\n",
       " 'EURAUD': 108,\n",
       " 'TWITTER': 113,\n",
       " 'FERRARI': 133,\n",
       " 'TESLA': 167,\n",
       " 'USDNOK': 168,\n",
       " 'EURNZD': 212,\n",
       " 'USDSEK': 219,\n",
       " 'USDTRY': 220,\n",
       " 'MMM:US': 252,\n",
       " 'ABT:US': 253,\n",
       " 'ABBV:US': 254,\n",
       " 'ACN:US': 255,\n",
       " 'ATVI:US': 256,\n",
       " 'ADBE:US': 258,\n",
       " 'AAP:US': 259,\n",
       " 'AA:US': 269,\n",
       " 'AGN:US': 272,\n",
       " 'MO:US': 278,\n",
       " 'AMGN:US': 290,\n",
       " 'T:US': 303,\n",
       " 'ADSK:US': 304,\n",
       " 'BAC:US': 313,\n",
       " 'BBY:US': 320,\n",
       " 'BA:US': 324,\n",
       " 'BMY:US': 328,\n",
       " 'CAT:US': 338,\n",
       " 'CTL:US': 344,\n",
       " 'CVX:US': 349,\n",
       " 'CTAS:US': 356,\n",
       " 'CTXS:US': 360,\n",
       " 'CL:US': 365,\n",
       " 'CMCSA:US': 366,\n",
       " 'CXO:US': 369,\n",
       " 'COP:US': 370,\n",
       " 'ED:US': 371,\n",
       " 'COST:US': 374,\n",
       " 'CVS:US': 379,\n",
       " 'DHI:US': 380,\n",
       " 'DHR:US': 381,\n",
       " 'DRI:US': 382,\n",
       " 'DVA:US': 383,\n",
       " 'DAL:US': 386,\n",
       " 'DVN:US': 388,\n",
       " 'DO:US': 389,\n",
       " 'DLR:US': 390,\n",
       " 'DFS:US': 391,\n",
       " 'DISCA:US': 392,\n",
       " 'DOV:US': 397,\n",
       " 'DTE:US': 400,\n",
       " 'DNB:US': 403,\n",
       " 'ETFC:US': 404,\n",
       " 'EMN:US': 405,\n",
       " 'EBAY:US': 407,\n",
       " 'ECL:US': 408,\n",
       " 'EIX:US': 409,\n",
       " 'EMR:US': 413,\n",
       " 'ETR:US': 415,\n",
       " 'EQT:US': 417,\n",
       " 'EFX:US': 418,\n",
       " 'EQR:US': 420,\n",
       " 'ESS:US': 421,\n",
       " 'EXPD:US': 426,\n",
       " 'EXR:US': 428,\n",
       " 'XOM:US': 429,\n",
       " 'FFIV:US': 430,\n",
       " 'FAST:US': 432,\n",
       " 'FRT:US': 433,\n",
       " 'FDX:US': 434,\n",
       " 'FIS:US': 435,\n",
       " 'FITB:US': 436,\n",
       " 'FSLR:US': 437,\n",
       " 'FE:US': 438,\n",
       " 'FISV:US': 439,\n",
       " 'FLS:US': 441,\n",
       " 'FMC:US': 443,\n",
       " 'FBHS:US': 448,\n",
       " 'FCX:US': 450,\n",
       " 'FTR:US': 451,\n",
       " 'GILD:US': 460,\n",
       " 'HAS:US': 471,\n",
       " 'HON:US': 480,\n",
       " 'IBM:US': 491,\n",
       " 'KHC:US': 513,\n",
       " 'LMT:US': 528,\n",
       " 'MA:US': 542,\n",
       " 'MDT:US': 548,\n",
       " 'MU:US': 553,\n",
       " 'NFLX:US': 569,\n",
       " 'NEE:US': 575,\n",
       " 'NVDA:US': 586,\n",
       " 'PYPL:US': 597,\n",
       " 'PFE:US': 603,\n",
       " 'PM:US': 605,\n",
       " 'PG:US': 617,\n",
       " 'QCOM:US': 626,\n",
       " 'DGX:US': 628,\n",
       " 'RTN:US': 630,\n",
       " 'CRM:US': 645,\n",
       " 'SLB:US': 647,\n",
       " 'SBUX:US': 666,\n",
       " 'SYK:US': 670,\n",
       " 'DIS:US': 689,\n",
       " 'TWX:US': 692,\n",
       " 'VZ:US': 723,\n",
       " 'V:US': 726,\n",
       " 'WMT:US': 729,\n",
       " 'WBA:US': 730,\n",
       " 'WFC:US': 733,\n",
       " 'SNAP': 756,\n",
       " 'DUBAI': 757,\n",
       " 'TA25': 758,\n",
       " 'AMD': 760,\n",
       " 'ALGN': 761,\n",
       " 'ANSS': 762,\n",
       " 'DRE': 772,\n",
       " 'IDXX': 775,\n",
       " 'RMD': 781,\n",
       " 'SU': 783,\n",
       " 'TFX': 784,\n",
       " 'TMUS': 785,\n",
       " 'QQQ': 796,\n",
       " 'SPY': 808,\n",
       " 'BTCUSD': 816,\n",
       " 'XRPUSD': 817,\n",
       " 'ETHUSD': 818,\n",
       " 'LTCUSD': 819,\n",
       " 'DSHUSD': 821,\n",
       " 'BCHUSD': 824,\n",
       " 'OMGUSD': 825,\n",
       " 'ZECUSD': 826,\n",
       " 'ETCUSD': 829,\n",
       " 'BTCUSD-L': 830,\n",
       " 'ETHUSD-L': 831,\n",
       " 'LTCUSD-L': 834,\n",
       " 'BCHUSD-L': 836,\n",
       " 'BTGUSD': 837,\n",
       " 'QTMUSD': 845,\n",
       " 'XLMUSD': 847,\n",
       " 'TRXUSD': 858,\n",
       " 'EOSUSD': 864,\n",
       " 'USDINR': 865,\n",
       " 'USDPLN': 866,\n",
       " 'USDBRL': 867,\n",
       " 'USDZAR': 868,\n",
       " 'DBX': 889,\n",
       " 'SPOT': 891,\n",
       " 'USDSGD': 892,\n",
       " 'USDHKD': 893,\n",
       " 'LLOYL-CHIX': 894,\n",
       " 'VODL-CHIX': 895,\n",
       " 'BARCL-CHIX': 896,\n",
       " 'TSCOL-CHIX': 897,\n",
       " 'BPL-CHIX': 898,\n",
       " 'HSBAL-CHIX': 899,\n",
       " 'RBSL-CHIX': 900,\n",
       " 'BLTL-CHIX': 901,\n",
       " 'MRWL-CHIX': 902,\n",
       " 'STANL-CHIX': 903,\n",
       " 'RRL-CHIX': 904,\n",
       " 'MKSL-CHIX': 905,\n",
       " 'BATSL-CHIX': 906,\n",
       " 'ULVRL-CHIX': 908,\n",
       " 'EZJL-CHIX': 909,\n",
       " 'ADSD-CHIX': 910,\n",
       " 'ALVD-CHIX': 911,\n",
       " 'BAYND-CHIX': 912,\n",
       " 'BMWD-CHIX': 913,\n",
       " 'CBKD-CHIX': 914,\n",
       " 'COND-CHIX': 915,\n",
       " 'DAID-CHIX': 916,\n",
       " 'DBKD-CHIX': 917,\n",
       " 'DPWD-CHIX': 919,\n",
       " 'DTED-CHIX': 920,\n",
       " 'EOAND-CHIX': 921,\n",
       " 'MRKD-CHIX': 922,\n",
       " 'SIED-CHIX': 923,\n",
       " 'TKAD-CHIX': 924,\n",
       " 'VOW3D-CHIX': 925,\n",
       " 'PIRCM-CHIX': 929,\n",
       " 'PSTM-CHIX': 930,\n",
       " 'TITM-CHIX': 931,\n",
       " 'CSGNZ-CHIX': 933,\n",
       " 'NESNZ-CHIX': 934,\n",
       " 'ROGZ-CHIX': 935,\n",
       " 'UBSGZ-CHIX': 936,\n",
       " 'SANE-CHIX': 937,\n",
       " 'BBVAE-CHIX': 938,\n",
       " 'TEFE-CHIX': 939,\n",
       " 'AIRP-CHIX': 940,\n",
       " 'HEIOA-CHIX': 941,\n",
       " 'ORP-CHIX': 942,\n",
       " 'AUDCHF': 943,\n",
       " 'AUDNZD': 944,\n",
       " 'CADJPY': 945,\n",
       " 'EURCHF': 946,\n",
       " 'GBPNZD': 947,\n",
       " 'NZDCAD': 948,\n",
       " 'NZDJPY': 949,\n",
       " 'EURNOK': 951,\n",
       " 'CHFSGD': 952,\n",
       " 'EURSGD': 955,\n",
       " 'USDMXN': 957,\n",
       " 'JUVEM': 958,\n",
       " 'ASRM': 959,\n",
       " 'MANU': 966,\n",
       " 'UKOUSD': 969,\n",
       " 'XPTUSD': 970,\n",
       " 'USOUSD': 971,\n",
       " 'W1': 977,\n",
       " 'AUDDKK': 983,\n",
       " 'AUDMXN': 985,\n",
       " 'AUDNOK': 986,\n",
       " 'AUDSEK': 988,\n",
       " 'AUDSGD': 989,\n",
       " 'AUDTRY': 990,\n",
       " 'CADMXN': 992,\n",
       " 'CADNOK': 993,\n",
       " 'CADPLN': 994,\n",
       " 'CADTRY': 995,\n",
       " 'CHFDKK': 996,\n",
       " 'CHFNOK': 998,\n",
       " 'CHFSEK': 1000,\n",
       " 'CHFTRY': 1001,\n",
       " 'DKKPLN': 1004,\n",
       " 'DKKSGD': 1005,\n",
       " 'EURDKK': 1007,\n",
       " 'EURMXN': 1008,\n",
       " 'EURTRY': 1010,\n",
       " 'EURZAR': 1011,\n",
       " 'GBPILS': 1013,\n",
       " 'GBPMXN': 1014,\n",
       " 'GBPNOK': 1015,\n",
       " 'GBPPLN': 1016,\n",
       " 'GBPSEK': 1017,\n",
       " 'GBPSGD': 1018,\n",
       " 'GBPTRY': 1019,\n",
       " 'NOKDKK': 1023,\n",
       " 'NOKJPY': 1024,\n",
       " 'NOKSEK': 1025,\n",
       " 'NZDDKK': 1026,\n",
       " 'NZDMXN': 1027,\n",
       " 'NZDNOK': 1028,\n",
       " 'NZDSEK': 1030,\n",
       " 'NZDSGD': 1031,\n",
       " 'NZDTRY': 1032,\n",
       " 'NZDZAR': 1033,\n",
       " 'PLNSEK': 1036,\n",
       " 'SEKDKK': 1037,\n",
       " 'SEKJPY': 1038,\n",
       " 'SGDJPY': 1041,\n",
       " 'USDDKK': 1045,\n",
       " 'NZDCHF': 1048,\n",
       " 'GBPHUF': 1049,\n",
       " 'USDCZK': 1050,\n",
       " 'USDHUF': 1051,\n",
       " 'CADSGD': 1054,\n",
       " 'EURCZK': 1056,\n",
       " 'EURHUF': 1057,\n",
       " 'USDTHB': 1062,\n",
       " 'IOTUSD-L': 1116,\n",
       " 'XLMUSD-L': 1117,\n",
       " 'NEOUSD-L': 1118,\n",
       " 'ADAUSD-L': 1119,\n",
       " 'XEMUSD-L': 1120,\n",
       " 'XRPUSD-L': 1122,\n",
       " 'EEM': 1203,\n",
       " 'FXI': 1204,\n",
       " 'IWM': 1205,\n",
       " 'GDX': 1206,\n",
       " 'XOP': 1209,\n",
       " 'XLK': 1210,\n",
       " 'XLE': 1211,\n",
       " 'XLU': 1212,\n",
       " 'IEMG': 1213,\n",
       " 'XLY': 1214,\n",
       " 'IYR': 1215,\n",
       " 'SQQQ': 1216,\n",
       " 'OIH': 1217,\n",
       " 'SMH': 1218,\n",
       " 'EWJ': 1219,\n",
       " 'XLB': 1221,\n",
       " 'DIA': 1222,\n",
       " 'TLT': 1223,\n",
       " 'SDS': 1224,\n",
       " 'EWW': 1225,\n",
       " 'XME': 1227,\n",
       " 'QID': 1229,\n",
       " 'AUS200': 1230,\n",
       " 'FRANCE40': 1231,\n",
       " 'GERMANY30': 1232,\n",
       " 'HONGKONG50': 1233,\n",
       " 'SPAIN35': 1234,\n",
       " 'US30': 1235,\n",
       " 'USNDAQ100': 1236,\n",
       " 'JAPAN225': 1237,\n",
       " 'USSPX500': 1239,\n",
       " 'UK100': 1241,\n",
       " 'TRXUSD-L': 1242,\n",
       " 'EOSUSD-L': 1244,\n",
       " 'BNBUSD-L': 1279,\n",
       " 'ACB': 1288,\n",
       " 'CGC': 1289,\n",
       " 'CRON': 1290,\n",
       " 'GWPH': 1291,\n",
       " 'MJ': 1292,\n",
       " 'TLRY': 1293,\n",
       " 'BUD': 1294,\n",
       " 'LYFT': 1313,\n",
       " 'PINS': 1315,\n",
       " 'ZM': 1316,\n",
       " 'UBER': 1334,\n",
       " 'MELI': 1335,\n",
       " 'BYND': 1336,\n",
       " 'BSVUSD-L': 1338,\n",
       " 'ONTUSD-L': 1339,\n",
       " 'ATOMUSD-L': 1340,\n",
       " 'WORK': 1343,\n",
       " 'FDJP': 1350,\n",
       " 'CAN': 1351,\n",
       " 'VIAC': 1352,\n",
       " 'TFC': 1353}"
      ]
     },
     "execution_count": 8,
     "metadata": {},
     "output_type": "execute_result"
    }
   ],
   "source": [
    "API.get_all_ACTIVES_OPCODE()"
   ]
  },
  {
   "cell_type": "markdown",
   "metadata": {},
   "source": [
    "# Financial Information "
   ]
  },
  {
   "cell_type": "code",
   "execution_count": 9,
   "metadata": {},
   "outputs": [],
   "source": [
    "fi = API.get_financial_information(1)"
   ]
  },
  {
   "cell_type": "code",
   "execution_count": 10,
   "metadata": {},
   "outputs": [
    {
     "data": {
      "text/plain": [
       "{'request_id': '',\n",
       " 'name': 'financial-information',\n",
       " 'msg': {'data': {'active': {'charts': {'dtd': {'change': 0.06131886662295319},\n",
       "     'm1': {'change': -1.3794754214013887},\n",
       "     'y1': {'change': 7.785524682648398},\n",
       "     'ytd': {'change': 4.842730102763803}},\n",
       "    'fininfo': {'base': {'name': 'Euro'},\n",
       "     'currency': {'name': 'US Dollar'},\n",
       "     'description': \"EUR/USD is an exchange rate that specifies how many USD (United States Dollar) can be converted into one EUR (Euro), therefore the base currency is EUR and the price currency is USD. If this rate declines, it means that USD appreciates relative to EUR and if this rate increases it means that the USD depreciates against the EUR. There are many macroeconomic factors/events (fundamentals) that affect EUR/USD exchange rate, which are usually common in both countries. Some of the most notable factors/events are GDP, Inflation or Consumer Price Index (CPI),  Interest Rates and other monetary policies applied by central banks. From the period since 2015 the exchange rate reached the lowest value of 1.04 in Dec of 2016 and the highest of 1.17 in Aug of 2017. Regarding the trade relationship between Eurozone and United States, the latter imports 10% of Eurozone's total exports, whereas Eurozone imports 19.2% of United States's total exports. The largest component of Eurozone's exports are machinery, nuclear reactor, boiler products and vehicles whereas United States's largest export components are machinery, nuclear reactor, boiler products and electrical/electronic equipment. Any significant shifts in the trade relationship between the two regions  and changes in the values of the aforementioned components are some of the factors that could have a material impact on the pair.\",\n",
       "     'type': 'major'},\n",
       "    'id': 1,\n",
       "    'index_fininfo': {},\n",
       "    'media': {'siteBackground': 'https://static.cdnpub.info/files/storage/public/5d/65/068c601b09g7e4c0h4.jpg'},\n",
       "    'name': 'EUR/USD',\n",
       "    'ticker': 'EURUSD'}}},\n",
       " 'status': 2000}"
      ]
     },
     "execution_count": 10,
     "metadata": {},
     "output_type": "execute_result"
    }
   ],
   "source": [
    "fi"
   ]
  },
  {
   "cell_type": "code",
   "execution_count": 11,
   "metadata": {},
   "outputs": [
    {
     "data": {
      "text/plain": [
       "dict_keys(['request_id', 'name', 'msg', 'status'])"
      ]
     },
     "execution_count": 11,
     "metadata": {},
     "output_type": "execute_result"
    }
   ],
   "source": [
    "fi.keys()"
   ]
  },
  {
   "cell_type": "code",
   "execution_count": 12,
   "metadata": {},
   "outputs": [
    {
     "data": {
      "text/plain": [
       "{'data': {'active': {'charts': {'dtd': {'change': 0.06131886662295319},\n",
       "    'm1': {'change': -1.3794754214013887},\n",
       "    'y1': {'change': 7.785524682648398},\n",
       "    'ytd': {'change': 4.842730102763803}},\n",
       "   'fininfo': {'base': {'name': 'Euro'},\n",
       "    'currency': {'name': 'US Dollar'},\n",
       "    'description': \"EUR/USD is an exchange rate that specifies how many USD (United States Dollar) can be converted into one EUR (Euro), therefore the base currency is EUR and the price currency is USD. If this rate declines, it means that USD appreciates relative to EUR and if this rate increases it means that the USD depreciates against the EUR. There are many macroeconomic factors/events (fundamentals) that affect EUR/USD exchange rate, which are usually common in both countries. Some of the most notable factors/events are GDP, Inflation or Consumer Price Index (CPI),  Interest Rates and other monetary policies applied by central banks. From the period since 2015 the exchange rate reached the lowest value of 1.04 in Dec of 2016 and the highest of 1.17 in Aug of 2017. Regarding the trade relationship between Eurozone and United States, the latter imports 10% of Eurozone's total exports, whereas Eurozone imports 19.2% of United States's total exports. The largest component of Eurozone's exports are machinery, nuclear reactor, boiler products and vehicles whereas United States's largest export components are machinery, nuclear reactor, boiler products and electrical/electronic equipment. Any significant shifts in the trade relationship between the two regions  and changes in the values of the aforementioned components are some of the factors that could have a material impact on the pair.\",\n",
       "    'type': 'major'},\n",
       "   'id': 1,\n",
       "   'index_fininfo': {},\n",
       "   'media': {'siteBackground': 'https://static.cdnpub.info/files/storage/public/5d/65/068c601b09g7e4c0h4.jpg'},\n",
       "   'name': 'EUR/USD',\n",
       "   'ticker': 'EURUSD'}}}"
      ]
     },
     "execution_count": 12,
     "metadata": {},
     "output_type": "execute_result"
    }
   ],
   "source": [
    "fi['msg']"
   ]
  },
  {
   "cell_type": "code",
   "execution_count": 13,
   "metadata": {},
   "outputs": [
    {
     "data": {
      "text/plain": [
       "{'active': {'charts': {'dtd': {'change': 0.06131886662295319},\n",
       "   'm1': {'change': -1.3794754214013887},\n",
       "   'y1': {'change': 7.785524682648398},\n",
       "   'ytd': {'change': 4.842730102763803}},\n",
       "  'fininfo': {'base': {'name': 'Euro'},\n",
       "   'currency': {'name': 'US Dollar'},\n",
       "   'description': \"EUR/USD is an exchange rate that specifies how many USD (United States Dollar) can be converted into one EUR (Euro), therefore the base currency is EUR and the price currency is USD. If this rate declines, it means that USD appreciates relative to EUR and if this rate increases it means that the USD depreciates against the EUR. There are many macroeconomic factors/events (fundamentals) that affect EUR/USD exchange rate, which are usually common in both countries. Some of the most notable factors/events are GDP, Inflation or Consumer Price Index (CPI),  Interest Rates and other monetary policies applied by central banks. From the period since 2015 the exchange rate reached the lowest value of 1.04 in Dec of 2016 and the highest of 1.17 in Aug of 2017. Regarding the trade relationship between Eurozone and United States, the latter imports 10% of Eurozone's total exports, whereas Eurozone imports 19.2% of United States's total exports. The largest component of Eurozone's exports are machinery, nuclear reactor, boiler products and vehicles whereas United States's largest export components are machinery, nuclear reactor, boiler products and electrical/electronic equipment. Any significant shifts in the trade relationship between the two regions  and changes in the values of the aforementioned components are some of the factors that could have a material impact on the pair.\",\n",
       "   'type': 'major'},\n",
       "  'id': 1,\n",
       "  'index_fininfo': {},\n",
       "  'media': {'siteBackground': 'https://static.cdnpub.info/files/storage/public/5d/65/068c601b09g7e4c0h4.jpg'},\n",
       "  'name': 'EUR/USD',\n",
       "  'ticker': 'EURUSD'}}"
      ]
     },
     "execution_count": 13,
     "metadata": {},
     "output_type": "execute_result"
    }
   ],
   "source": [
    "fi['msg']['data']"
   ]
  },
  {
   "cell_type": "code",
   "execution_count": 14,
   "metadata": {},
   "outputs": [
    {
     "data": {
      "text/plain": [
       "{'charts': {'dtd': {'change': 0.06131886662295319},\n",
       "  'm1': {'change': -1.3794754214013887},\n",
       "  'y1': {'change': 7.785524682648398},\n",
       "  'ytd': {'change': 4.842730102763803}},\n",
       " 'fininfo': {'base': {'name': 'Euro'},\n",
       "  'currency': {'name': 'US Dollar'},\n",
       "  'description': \"EUR/USD is an exchange rate that specifies how many USD (United States Dollar) can be converted into one EUR (Euro), therefore the base currency is EUR and the price currency is USD. If this rate declines, it means that USD appreciates relative to EUR and if this rate increases it means that the USD depreciates against the EUR. There are many macroeconomic factors/events (fundamentals) that affect EUR/USD exchange rate, which are usually common in both countries. Some of the most notable factors/events are GDP, Inflation or Consumer Price Index (CPI),  Interest Rates and other monetary policies applied by central banks. From the period since 2015 the exchange rate reached the lowest value of 1.04 in Dec of 2016 and the highest of 1.17 in Aug of 2017. Regarding the trade relationship between Eurozone and United States, the latter imports 10% of Eurozone's total exports, whereas Eurozone imports 19.2% of United States's total exports. The largest component of Eurozone's exports are machinery, nuclear reactor, boiler products and vehicles whereas United States's largest export components are machinery, nuclear reactor, boiler products and electrical/electronic equipment. Any significant shifts in the trade relationship between the two regions  and changes in the values of the aforementioned components are some of the factors that could have a material impact on the pair.\",\n",
       "  'type': 'major'},\n",
       " 'id': 1,\n",
       " 'index_fininfo': {},\n",
       " 'media': {'siteBackground': 'https://static.cdnpub.info/files/storage/public/5d/65/068c601b09g7e4c0h4.jpg'},\n",
       " 'name': 'EUR/USD',\n",
       " 'ticker': 'EURUSD'}"
      ]
     },
     "execution_count": 14,
     "metadata": {},
     "output_type": "execute_result"
    }
   ],
   "source": [
    "fi['msg']['data']['active']"
   ]
  },
  {
   "cell_type": "code",
   "execution_count": 15,
   "metadata": {},
   "outputs": [
    {
     "data": {
      "text/html": [
       "<img src=\"https://static.cdnpub.info/files/storage/public/5d/65/068c601b09g7e4c0h4.jpg\" width=\"100\" height=\"100\"/>"
      ],
      "text/plain": [
       "<IPython.core.display.Image object>"
      ]
     },
     "execution_count": 15,
     "metadata": {},
     "output_type": "execute_result"
    }
   ],
   "source": [
    "Image(url= fi['msg']['data']['active']['media']['siteBackground'], width=100, height=100)"
   ]
  },
  {
   "cell_type": "markdown",
   "metadata": {},
   "source": [
    "# Plot Financial Candles\n",
    "\n",
    "```python\n",
    "    goal=\"EURUSD\"\n",
    "    print(\"get candles\")\n",
    "    print(I_want_money.get_candles(goal,60,111,time.time()))\n",
    "```"
   ]
  },
  {
   "cell_type": "code",
   "execution_count": 16,
   "metadata": {},
   "outputs": [],
   "source": [
    "candles = API.get_candles(ACTIVES='EURUSD', interval=60, count=1000, endtime=time.time())"
   ]
  },
  {
   "cell_type": "code",
   "execution_count": 17,
   "metadata": {},
   "outputs": [
    {
     "data": {
      "text/plain": [
       "{'id': 1087204,\n",
       " 'from': 1601371440,\n",
       " 'at': 1601371500015830625,\n",
       " 'to': 1601371500,\n",
       " 'open': 1.16904,\n",
       " 'close': 1.1691,\n",
       " 'min': 1.16887,\n",
       " 'max': 1.16915,\n",
       " 'volume': 130}"
      ]
     },
     "execution_count": 17,
     "metadata": {},
     "output_type": "execute_result"
    }
   ],
   "source": [
    "candles[0]"
   ]
  },
  {
   "cell_type": "code",
   "execution_count": 18,
   "metadata": {},
   "outputs": [
    {
     "data": {
      "text/plain": [
       "1000"
      ]
     },
     "execution_count": 18,
     "metadata": {},
     "output_type": "execute_result"
    }
   ],
   "source": [
    "len(candles)"
   ]
  },
  {
   "cell_type": "code",
   "execution_count": 19,
   "metadata": {},
   "outputs": [
    {
     "data": {
      "text/plain": [
       "'2020-09-29 09:25:00'"
      ]
     },
     "execution_count": 19,
     "metadata": {},
     "output_type": "execute_result"
    }
   ],
   "source": [
    "datetime.utcfromtimestamp(candles[0]['to']).strftime('%Y-%m-%d %H:%M:%S')"
   ]
  },
  {
   "cell_type": "code",
   "execution_count": 20,
   "metadata": {},
   "outputs": [],
   "source": [
    "dct_struct = {'Date':[], 'Open':[], 'Close':[], 'High':[], 'Low':[], 'Volume':[]}"
   ]
  },
  {
   "cell_type": "code",
   "execution_count": 21,
   "metadata": {},
   "outputs": [],
   "source": [
    "def convert_timestamp(x, pattern='%Y-%m-%d %H:%M:%S'):\n",
    "    return datetime.utcfromtimestamp(x).strftime(pattern)"
   ]
  },
  {
   "cell_type": "code",
   "execution_count": 22,
   "metadata": {},
   "outputs": [],
   "source": [
    "for candle in candles:\n",
    "    dct_struct['Open'].append(candle['open'])\n",
    "    dct_struct['Close'].append(candle['close'])\n",
    "    dct_struct['High'].append(candle['max'])\n",
    "    dct_struct['Low'].append(candle['min'])\n",
    "    dct_struct['Volume'].append(candle['volume'])\n",
    "    dct_struct['Date'].append(convert_timestamp(candle['to']))"
   ]
  },
  {
   "cell_type": "code",
   "execution_count": 23,
   "metadata": {},
   "outputs": [
    {
     "data": {
      "text/html": [
       "<div>\n",
       "<style scoped>\n",
       "    .dataframe tbody tr th:only-of-type {\n",
       "        vertical-align: middle;\n",
       "    }\n",
       "\n",
       "    .dataframe tbody tr th {\n",
       "        vertical-align: top;\n",
       "    }\n",
       "\n",
       "    .dataframe thead th {\n",
       "        text-align: right;\n",
       "    }\n",
       "</style>\n",
       "<table border=\"1\" class=\"dataframe\">\n",
       "  <thead>\n",
       "    <tr style=\"text-align: right;\">\n",
       "      <th></th>\n",
       "      <th>Date</th>\n",
       "      <th>Open</th>\n",
       "      <th>Close</th>\n",
       "      <th>High</th>\n",
       "      <th>Low</th>\n",
       "      <th>Volume</th>\n",
       "    </tr>\n",
       "  </thead>\n",
       "  <tbody>\n",
       "    <tr>\n",
       "      <th>0</th>\n",
       "      <td>2020-09-29 09:25:00</td>\n",
       "      <td>1.16904</td>\n",
       "      <td>1.16910</td>\n",
       "      <td>1.16915</td>\n",
       "      <td>1.16887</td>\n",
       "      <td>130</td>\n",
       "    </tr>\n",
       "    <tr>\n",
       "      <th>1</th>\n",
       "      <td>2020-09-29 09:26:00</td>\n",
       "      <td>1.16910</td>\n",
       "      <td>1.16877</td>\n",
       "      <td>1.16911</td>\n",
       "      <td>1.16875</td>\n",
       "      <td>111</td>\n",
       "    </tr>\n",
       "  </tbody>\n",
       "</table>\n",
       "</div>"
      ],
      "text/plain": [
       "                  Date     Open    Close     High      Low  Volume\n",
       "0  2020-09-29 09:25:00  1.16904  1.16910  1.16915  1.16887     130\n",
       "1  2020-09-29 09:26:00  1.16910  1.16877  1.16911  1.16875     111"
      ]
     },
     "execution_count": 23,
     "metadata": {},
     "output_type": "execute_result"
    }
   ],
   "source": [
    "candles_df = pd.DataFrame(dct_struct)\n",
    "candles_df.head(2)"
   ]
  },
  {
   "cell_type": "code",
   "execution_count": 24,
   "metadata": {},
   "outputs": [
    {
     "data": {
      "text/html": [
       "<div>\n",
       "<style scoped>\n",
       "    .dataframe tbody tr th:only-of-type {\n",
       "        vertical-align: middle;\n",
       "    }\n",
       "\n",
       "    .dataframe tbody tr th {\n",
       "        vertical-align: top;\n",
       "    }\n",
       "\n",
       "    .dataframe thead th {\n",
       "        text-align: right;\n",
       "    }\n",
       "</style>\n",
       "<table border=\"1\" class=\"dataframe\">\n",
       "  <thead>\n",
       "    <tr style=\"text-align: right;\">\n",
       "      <th></th>\n",
       "      <th>Date</th>\n",
       "      <th>Open</th>\n",
       "      <th>Close</th>\n",
       "      <th>High</th>\n",
       "      <th>Low</th>\n",
       "      <th>Volume</th>\n",
       "    </tr>\n",
       "    <tr>\n",
       "      <th>Date</th>\n",
       "      <th></th>\n",
       "      <th></th>\n",
       "      <th></th>\n",
       "      <th></th>\n",
       "      <th></th>\n",
       "      <th></th>\n",
       "    </tr>\n",
       "  </thead>\n",
       "  <tbody>\n",
       "    <tr>\n",
       "      <th>2020-09-29 09:25:00</th>\n",
       "      <td>2020-09-29 09:25:00</td>\n",
       "      <td>1.16904</td>\n",
       "      <td>1.16910</td>\n",
       "      <td>1.16915</td>\n",
       "      <td>1.16887</td>\n",
       "      <td>130</td>\n",
       "    </tr>\n",
       "    <tr>\n",
       "      <th>2020-09-29 09:26:00</th>\n",
       "      <td>2020-09-29 09:26:00</td>\n",
       "      <td>1.16910</td>\n",
       "      <td>1.16877</td>\n",
       "      <td>1.16911</td>\n",
       "      <td>1.16875</td>\n",
       "      <td>111</td>\n",
       "    </tr>\n",
       "  </tbody>\n",
       "</table>\n",
       "</div>"
      ],
      "text/plain": [
       "                                    Date     Open    Close     High      Low  \\\n",
       "Date                                                                           \n",
       "2020-09-29 09:25:00  2020-09-29 09:25:00  1.16904  1.16910  1.16915  1.16887   \n",
       "2020-09-29 09:26:00  2020-09-29 09:26:00  1.16910  1.16877  1.16911  1.16875   \n",
       "\n",
       "                     Volume  \n",
       "Date                         \n",
       "2020-09-29 09:25:00     130  \n",
       "2020-09-29 09:26:00     111  "
      ]
     },
     "execution_count": 24,
     "metadata": {},
     "output_type": "execute_result"
    }
   ],
   "source": [
    "# Converting the index as date\n",
    "candles_df.index = pd.to_datetime(candles_df.Date)\n",
    "candles_df.head(2)"
   ]
  },
  {
   "cell_type": "code",
   "execution_count": 25,
   "metadata": {},
   "outputs": [
    {
     "data": {
      "image/png": "[encoded data removed]",
      "text/plain": [
       "<Figure size 800x575 with 4 Axes>"
      ]
     },
     "metadata": {},
     "output_type": "display_data"
    }
   ],
   "source": [
    "mpf.plot(candles_df,type='candle',mav=(7,12),show_nontrading=True,volume=True)"
   ]
  },
  {
   "cell_type": "code",
   "execution_count": 28,
   "metadata": {},
   "outputs": [],
   "source": [
    "dataset_dt_pattern = '%Y-%#m-%#d'\n",
    "start_dt = convert_timestamp(candles[0]['to'], dataset_dt_pattern)\n",
    "end_dt = convert_timestamp(candles[-1]['to'], dataset_dt_pattern)\n",
    "\n",
    "candles_df.to_csv('datasets/candles_iqoption_' +start_dt+ '_' +end_dt+ '.csv')"
   ]
  }
 ],
 "metadata": {
  "kernelspec": {
   "display_name": "Python 3",
   "language": "python",
   "name": "python3"
  },
  "language_info": {
   "codemirror_mode": {
    "name": "ipython",
    "version": 3
   },
   "file_extension": ".py",
   "mimetype": "text/x-python",
   "name": "python",
   "nbconvert_exporter": "python",
   "pygments_lexer": "ipython3",
   "version": "3.8.5"
  }
 },
 "nbformat": 4,
 "nbformat_minor": 4
}
