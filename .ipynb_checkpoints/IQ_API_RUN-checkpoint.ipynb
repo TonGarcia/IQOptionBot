{
 "cells": [
  {
   "cell_type": "markdown",
   "metadata": {},
   "source": [
    "# Load Dependencies"
   ]
  },
  {
   "cell_type": "code",
   "execution_count": 1,
   "metadata": {},
   "outputs": [
    {
     "name": "stdout",
     "output_type": "stream",
     "text": [
      "ilton.aws@gmail.com\n"
     ]
    }
   ],
   "source": [
    "from iqoptionapi.stable_api import IQ_Option\n",
    "import time, json\n",
    "from datetime import datetime\n",
    "from termcolor import colored\n",
    "import os\n",
    "\n",
    "dev_env = True\n",
    "\n",
    "IQ_EMAIL = os.environ['IQ_EMAIL']\n",
    "IQ_PWD = os.environ['IQ_PWD']\n",
    "\n",
    "print(IQ_EMAIL)"
   ]
  },
  {
   "cell_type": "markdown",
   "metadata": {},
   "source": [
    "# Estabelecendo Conexão"
   ]
  },
  {
   "cell_type": "code",
   "execution_count": 2,
   "metadata": {},
   "outputs": [
    {
     "name": "stdout",
     "output_type": "stream",
     "text": [
      "Conexão estabelecida!\n"
     ]
    }
   ],
   "source": [
    "API = IQ_Option(IQ_EMAIL, IQ_PWD)\n",
    "\n",
    "API.connect()\n",
    "API.change_balance('PRACTICE')  # PRACTICE / REAL\n",
    "\n",
    "con_tests = 0\n",
    "max_con_test = 10\n",
    "\n",
    "while True:\n",
    "    con_tests = con_tests + 1\n",
    "    if API.check_connect() is False:\n",
    "        print('Erro ao tentar se conectar!')\n",
    "        API.connect()\n",
    "    elif con_tests == max_con_test:\n",
    "        print('(error)Número máximo de tentativas excedidas!')\n",
    "        break\n",
    "    else:\n",
    "        print('Conexão estabelecida!')\n",
    "        break\n",
    "\n",
    "connected_time = datetime.now()"
   ]
  },
  {
   "cell_type": "markdown",
   "metadata": {},
   "source": [
    "# Requisitando opções em aberto"
   ]
  },
  {
   "cell_type": "code",
   "execution_count": 3,
   "metadata": {},
   "outputs": [],
   "source": [
    "pairs = API.get_all_open_time()\n",
    "payouts = API.get_all_profit()\n",
    "history_retrieved_time = datetime.now()"
   ]
  },
  {
   "cell_type": "markdown",
   "metadata": {},
   "source": [
    "# Filter Open Options"
   ]
  },
  {
   "cell_type": "code",
   "execution_count": 4,
   "metadata": {},
   "outputs": [],
   "source": [
    "def filter_options(input_arr,target_arr=[]):\n",
    "    for pair in input_arr:\n",
    "        if input_arr[pair]['open'] is True:\n",
    "            target_arr.append(pair)\n",
    "    return target_arr"
   ]
  },
  {
   "cell_type": "code",
   "execution_count": 5,
   "metadata": {},
   "outputs": [],
   "source": [
    "open_options = []\n",
    "open_options = filter_options(pairs['binary'])\n",
    "open_options = filter_options(pairs['crypto'], open_options)\n",
    "\n",
    "if dev_env:\n",
    "    open_options"
   ]
  },
  {
   "cell_type": "markdown",
   "metadata": {},
   "source": [
    "# Definindo Configuração da estratégia de operação"
   ]
  },
  {
   "cell_type": "code",
   "execution_count": 6,
   "metadata": {},
   "outputs": [],
   "source": [
    "options = ['call', 'put']\n",
    "interval = 60 #in seconds (60 means 1minute)\n",
    "min_occurrence = 5\n",
    "min_payout = float(0.84)\n",
    "spend_bid = int(5) #min bid working: 2, test 1\n",
    "timeframe = 1\n",
    "index = 0"
   ]
  },
  {
   "cell_type": "markdown",
   "metadata": {},
   "source": [
    "# Get Candles"
   ]
  },
  {
   "cell_type": "code",
   "execution_count": 7,
   "metadata": {},
   "outputs": [],
   "source": [
    "def get_direction(candle):\n",
    "        if candle['close'] > candle['open']:\n",
    "            return 'positive'\n",
    "        elif candle['close'] == candle['open']:\n",
    "            return 'neutro'\n",
    "        else:\n",
    "            return 'negative'"
   ]
  },
  {
   "cell_type": "code",
   "execution_count": 8,
   "metadata": {},
   "outputs": [],
   "source": [
    "def history_direction_occur(candles):\n",
    "    counter = 0\n",
    "    direction = None\n",
    "    for candle in reversed(candles):\n",
    "        n_direction = get_direction(candle)\n",
    "        \n",
    "        if direction is None:\n",
    "            direction = n_direction\n",
    "            counter = counter + 1    \n",
    "            next\n",
    "        \n",
    "        if direction == n_direction:\n",
    "            counter = counter + 1\n",
    "        else:\n",
    "            break\n",
    "    return counter, direction"
   ]
  },
  {
   "cell_type": "code",
   "execution_count": 9,
   "metadata": {},
   "outputs": [],
   "source": [
    "def buy_options(open_options):\n",
    "    for pair_option in open_options:\n",
    "        candles = API.get_candles(ACTIVES=pair_option, interval=interval, count=min_occurrence*2, endtime=time.time())\n",
    "        counter, direction = history_direction_occur(candles)\n",
    "\n",
    "        bid = 'put' if direction == 'positive' else 'call'\n",
    "        if counter < min_occurrence: bid = None\n",
    "\n",
    "        if bid is not None: \n",
    "            bought, bid_msg = API.buy(spend_bid, pair_option, bid, timeframe)\n",
    "        else:\n",
    "            bought, bid_msg = None, None\n",
    "\n",
    "        if dev_env:\n",
    "            pair_option_str=colored('PAIR_OPTION:', color='cyan', on_color='on_grey')\n",
    "            bid_str=colored('BID:', color='cyan', on_color='on_grey')\n",
    "            counter_str=colored('COUNTER:', color='cyan', on_color='on_grey')\n",
    "            bought_str=colored('BOUGHT:', color='cyan', on_color='on_grey')\n",
    "            bid_msg_str=colored('BOUGHT:', color='cyan', on_color='on_grey')\n",
    "\n",
    "            print(pair_option_str,pair_option,bid_str,bid,counter_str,counter,bought_str,bought,bid_msg_str,bid_msg)"
   ]
  },
  {
   "cell_type": "code",
   "execution_count": 10,
   "metadata": {},
   "outputs": [
    {
     "name": "stdout",
     "output_type": "stream",
     "text": [
      "\u001b[40m\u001b[36mPAIR_OPTION:\u001b[0m GBPUSD \u001b[40m\u001b[36mBID:\u001b[0m None \u001b[40m\u001b[36mCOUNTER:\u001b[0m 2 \u001b[40m\u001b[36mBOUGHT:\u001b[0m None \u001b[40m\u001b[36mBOUGHT:\u001b[0m None\n",
      "\u001b[40m\u001b[36mPAIR_OPTION:\u001b[0m CADCHF \u001b[40m\u001b[36mBID:\u001b[0m None \u001b[40m\u001b[36mCOUNTER:\u001b[0m 4 \u001b[40m\u001b[36mBOUGHT:\u001b[0m None \u001b[40m\u001b[36mBOUGHT:\u001b[0m None\n",
      "\u001b[40m\u001b[36mPAIR_OPTION:\u001b[0m EURNZD \u001b[40m\u001b[36mBID:\u001b[0m None \u001b[40m\u001b[36mCOUNTER:\u001b[0m 2 \u001b[40m\u001b[36mBOUGHT:\u001b[0m None \u001b[40m\u001b[36mBOUGHT:\u001b[0m None\n",
      "\u001b[40m\u001b[36mPAIR_OPTION:\u001b[0m AUDCHF \u001b[40m\u001b[36mBID:\u001b[0m None \u001b[40m\u001b[36mCOUNTER:\u001b[0m 2 \u001b[40m\u001b[36mBOUGHT:\u001b[0m None \u001b[40m\u001b[36mBOUGHT:\u001b[0m None\n",
      "\u001b[40m\u001b[36mPAIR_OPTION:\u001b[0m GBPNZD \u001b[40m\u001b[36mBID:\u001b[0m None \u001b[40m\u001b[36mCOUNTER:\u001b[0m 4 \u001b[40m\u001b[36mBOUGHT:\u001b[0m None \u001b[40m\u001b[36mBOUGHT:\u001b[0m None\n",
      "\u001b[40m\u001b[36mPAIR_OPTION:\u001b[0m EURUSD \u001b[40m\u001b[36mBID:\u001b[0m None \u001b[40m\u001b[36mCOUNTER:\u001b[0m 2 \u001b[40m\u001b[36mBOUGHT:\u001b[0m None \u001b[40m\u001b[36mBOUGHT:\u001b[0m None\n",
      "\u001b[40m\u001b[36mPAIR_OPTION:\u001b[0m USDCAD \u001b[40m\u001b[36mBID:\u001b[0m None \u001b[40m\u001b[36mCOUNTER:\u001b[0m 2 \u001b[40m\u001b[36mBOUGHT:\u001b[0m None \u001b[40m\u001b[36mBOUGHT:\u001b[0m None\n",
      "\u001b[40m\u001b[36mPAIR_OPTION:\u001b[0m AUDJPY \u001b[40m\u001b[36mBID:\u001b[0m None \u001b[40m\u001b[36mCOUNTER:\u001b[0m 3 \u001b[40m\u001b[36mBOUGHT:\u001b[0m None \u001b[40m\u001b[36mBOUGHT:\u001b[0m None\n",
      "\u001b[40m\u001b[36mPAIR_OPTION:\u001b[0m GBPJPY \u001b[40m\u001b[36mBID:\u001b[0m None \u001b[40m\u001b[36mCOUNTER:\u001b[0m 4 \u001b[40m\u001b[36mBOUGHT:\u001b[0m None \u001b[40m\u001b[36mBOUGHT:\u001b[0m None\n",
      "\u001b[40m\u001b[36mPAIR_OPTION:\u001b[0m EURGBP \u001b[40m\u001b[36mBID:\u001b[0m None \u001b[40m\u001b[36mCOUNTER:\u001b[0m 2 \u001b[40m\u001b[36mBOUGHT:\u001b[0m None \u001b[40m\u001b[36mBOUGHT:\u001b[0m None\n",
      "\u001b[40m\u001b[36mPAIR_OPTION:\u001b[0m USDJPY \u001b[40m\u001b[36mBID:\u001b[0m call \u001b[40m\u001b[36mCOUNTER:\u001b[0m 6 \u001b[40m\u001b[36mBOUGHT:\u001b[0m True \u001b[40m\u001b[36mBOUGHT:\u001b[0m 7444537069\n",
      "\u001b[40m\u001b[36mPAIR_OPTION:\u001b[0m AUDCAD \u001b[40m\u001b[36mBID:\u001b[0m None \u001b[40m\u001b[36mCOUNTER:\u001b[0m 2 \u001b[40m\u001b[36mBOUGHT:\u001b[0m None \u001b[40m\u001b[36mBOUGHT:\u001b[0m None\n",
      "\u001b[40m\u001b[36mPAIR_OPTION:\u001b[0m EURAUD \u001b[40m\u001b[36mBID:\u001b[0m None \u001b[40m\u001b[36mCOUNTER:\u001b[0m 3 \u001b[40m\u001b[36mBOUGHT:\u001b[0m None \u001b[40m\u001b[36mBOUGHT:\u001b[0m None\n",
      "\u001b[40m\u001b[36mPAIR_OPTION:\u001b[0m USDCHF \u001b[40m\u001b[36mBID:\u001b[0m None \u001b[40m\u001b[36mCOUNTER:\u001b[0m 2 \u001b[40m\u001b[36mBOUGHT:\u001b[0m None \u001b[40m\u001b[36mBOUGHT:\u001b[0m None\n",
      "\u001b[40m\u001b[36mPAIR_OPTION:\u001b[0m GBPCHF \u001b[40m\u001b[36mBID:\u001b[0m None \u001b[40m\u001b[36mCOUNTER:\u001b[0m 4 \u001b[40m\u001b[36mBOUGHT:\u001b[0m None \u001b[40m\u001b[36mBOUGHT:\u001b[0m None\n",
      "\u001b[40m\u001b[36mPAIR_OPTION:\u001b[0m AUDNZD \u001b[40m\u001b[36mBID:\u001b[0m None \u001b[40m\u001b[36mCOUNTER:\u001b[0m 2 \u001b[40m\u001b[36mBOUGHT:\u001b[0m None \u001b[40m\u001b[36mBOUGHT:\u001b[0m None\n",
      "\u001b[40m\u001b[36mPAIR_OPTION:\u001b[0m GBPAUD \u001b[40m\u001b[36mBID:\u001b[0m None \u001b[40m\u001b[36mCOUNTER:\u001b[0m 4 \u001b[40m\u001b[36mBOUGHT:\u001b[0m None \u001b[40m\u001b[36mBOUGHT:\u001b[0m None\n",
      "\u001b[40m\u001b[36mPAIR_OPTION:\u001b[0m USDNOK \u001b[40m\u001b[36mBID:\u001b[0m call \u001b[40m\u001b[36mCOUNTER:\u001b[0m 7 \u001b[40m\u001b[36mBOUGHT:\u001b[0m False \u001b[40m\u001b[36mBOUGHT:\u001b[0m Cannot purchase an option (the asset is not available at the moment).\n",
      "\u001b[40m\u001b[36mPAIR_OPTION:\u001b[0m AUDUSD \u001b[40m\u001b[36mBID:\u001b[0m None \u001b[40m\u001b[36mCOUNTER:\u001b[0m 3 \u001b[40m\u001b[36mBOUGHT:\u001b[0m None \u001b[40m\u001b[36mBOUGHT:\u001b[0m None\n",
      "\u001b[40m\u001b[36mPAIR_OPTION:\u001b[0m GBPCAD \u001b[40m\u001b[36mBID:\u001b[0m None \u001b[40m\u001b[36mCOUNTER:\u001b[0m 4 \u001b[40m\u001b[36mBOUGHT:\u001b[0m None \u001b[40m\u001b[36mBOUGHT:\u001b[0m None\n",
      "\u001b[40m\u001b[36mPAIR_OPTION:\u001b[0m EURJPY \u001b[40m\u001b[36mBID:\u001b[0m None \u001b[40m\u001b[36mCOUNTER:\u001b[0m 2 \u001b[40m\u001b[36mBOUGHT:\u001b[0m None \u001b[40m\u001b[36mBOUGHT:\u001b[0m None\n",
      "\u001b[40m\u001b[36mPAIR_OPTION:\u001b[0m NZDUSD \u001b[40m\u001b[36mBID:\u001b[0m None \u001b[40m\u001b[36mCOUNTER:\u001b[0m 3 \u001b[40m\u001b[36mBOUGHT:\u001b[0m None \u001b[40m\u001b[36mBOUGHT:\u001b[0m None\n",
      "\u001b[40m\u001b[36mPAIR_OPTION:\u001b[0m EURCAD \u001b[40m\u001b[36mBID:\u001b[0m None \u001b[40m\u001b[36mCOUNTER:\u001b[0m 2 \u001b[40m\u001b[36mBOUGHT:\u001b[0m None \u001b[40m\u001b[36mBOUGHT:\u001b[0m None\n",
      "\u001b[40m\u001b[36mPAIR_OPTION:\u001b[0m ALIBABA \u001b[40m\u001b[36mBID:\u001b[0m None \u001b[40m\u001b[36mCOUNTER:\u001b[0m 3 \u001b[40m\u001b[36mBOUGHT:\u001b[0m None \u001b[40m\u001b[36mBOUGHT:\u001b[0m None\n",
      "\u001b[40m\u001b[36mPAIR_OPTION:\u001b[0m COKE \u001b[40m\u001b[36mBID:\u001b[0m None \u001b[40m\u001b[36mCOUNTER:\u001b[0m 2 \u001b[40m\u001b[36mBOUGHT:\u001b[0m None \u001b[40m\u001b[36mBOUGHT:\u001b[0m None\n",
      "\u001b[40m\u001b[36mPAIR_OPTION:\u001b[0m JPM \u001b[40m\u001b[36mBID:\u001b[0m None \u001b[40m\u001b[36mCOUNTER:\u001b[0m 2 \u001b[40m\u001b[36mBOUGHT:\u001b[0m None \u001b[40m\u001b[36mBOUGHT:\u001b[0m None\n",
      "\u001b[40m\u001b[36mPAIR_OPTION:\u001b[0m MCDON \u001b[40m\u001b[36mBID:\u001b[0m None \u001b[40m\u001b[36mCOUNTER:\u001b[0m 2 \u001b[40m\u001b[36mBOUGHT:\u001b[0m None \u001b[40m\u001b[36mBOUGHT:\u001b[0m None\n",
      "\u001b[40m\u001b[36mPAIR_OPTION:\u001b[0m YANDEX \u001b[40m\u001b[36mBID:\u001b[0m None \u001b[40m\u001b[36mCOUNTER:\u001b[0m 3 \u001b[40m\u001b[36mBOUGHT:\u001b[0m None \u001b[40m\u001b[36mBOUGHT:\u001b[0m None\n",
      "\u001b[40m\u001b[36mPAIR_OPTION:\u001b[0m MORSTAN \u001b[40m\u001b[36mBID:\u001b[0m None \u001b[40m\u001b[36mCOUNTER:\u001b[0m 2 \u001b[40m\u001b[36mBOUGHT:\u001b[0m None \u001b[40m\u001b[36mBOUGHT:\u001b[0m None\n",
      "\u001b[40m\u001b[36mPAIR_OPTION:\u001b[0m GS \u001b[40m\u001b[36mBID:\u001b[0m None \u001b[40m\u001b[36mCOUNTER:\u001b[0m 2 \u001b[40m\u001b[36mBOUGHT:\u001b[0m None \u001b[40m\u001b[36mBOUGHT:\u001b[0m None\n",
      "\u001b[40m\u001b[36mPAIR_OPTION:\u001b[0m TESLA \u001b[40m\u001b[36mBID:\u001b[0m None \u001b[40m\u001b[36mCOUNTER:\u001b[0m 2 \u001b[40m\u001b[36mBOUGHT:\u001b[0m None \u001b[40m\u001b[36mBOUGHT:\u001b[0m None\n",
      "\u001b[40m\u001b[36mPAIR_OPTION:\u001b[0m BAIDU \u001b[40m\u001b[36mBID:\u001b[0m None \u001b[40m\u001b[36mCOUNTER:\u001b[0m 2 \u001b[40m\u001b[36mBOUGHT:\u001b[0m None \u001b[40m\u001b[36mBOUGHT:\u001b[0m None\n",
      "\u001b[40m\u001b[36mPAIR_OPTION:\u001b[0m FACEBOOK \u001b[40m\u001b[36mBID:\u001b[0m None \u001b[40m\u001b[36mCOUNTER:\u001b[0m 3 \u001b[40m\u001b[36mBOUGHT:\u001b[0m None \u001b[40m\u001b[36mBOUGHT:\u001b[0m None\n",
      "\u001b[40m\u001b[36mPAIR_OPTION:\u001b[0m MSFT \u001b[40m\u001b[36mBID:\u001b[0m None \u001b[40m\u001b[36mCOUNTER:\u001b[0m 2 \u001b[40m\u001b[36mBOUGHT:\u001b[0m None \u001b[40m\u001b[36mBOUGHT:\u001b[0m None\n",
      "\u001b[40m\u001b[36mPAIR_OPTION:\u001b[0m CITI \u001b[40m\u001b[36mBID:\u001b[0m None \u001b[40m\u001b[36mCOUNTER:\u001b[0m 2 \u001b[40m\u001b[36mBOUGHT:\u001b[0m None \u001b[40m\u001b[36mBOUGHT:\u001b[0m None\n",
      "\u001b[40m\u001b[36mPAIR_OPTION:\u001b[0m NIKE \u001b[40m\u001b[36mBID:\u001b[0m None \u001b[40m\u001b[36mCOUNTER:\u001b[0m 3 \u001b[40m\u001b[36mBOUGHT:\u001b[0m None \u001b[40m\u001b[36mBOUGHT:\u001b[0m None\n",
      "\u001b[40m\u001b[36mPAIR_OPTION:\u001b[0m INTEL \u001b[40m\u001b[36mBID:\u001b[0m None \u001b[40m\u001b[36mCOUNTER:\u001b[0m 2 \u001b[40m\u001b[36mBOUGHT:\u001b[0m None \u001b[40m\u001b[36mBOUGHT:\u001b[0m None\n",
      "\u001b[40m\u001b[36mPAIR_OPTION:\u001b[0m AMAZON \u001b[40m\u001b[36mBID:\u001b[0m None \u001b[40m\u001b[36mCOUNTER:\u001b[0m 3 \u001b[40m\u001b[36mBOUGHT:\u001b[0m None \u001b[40m\u001b[36mBOUGHT:\u001b[0m None\n",
      "\u001b[40m\u001b[36mPAIR_OPTION:\u001b[0m TWITTER \u001b[40m\u001b[36mBID:\u001b[0m None \u001b[40m\u001b[36mCOUNTER:\u001b[0m 2 \u001b[40m\u001b[36mBOUGHT:\u001b[0m None \u001b[40m\u001b[36mBOUGHT:\u001b[0m None\n",
      "\u001b[40m\u001b[36mPAIR_OPTION:\u001b[0m APPLE \u001b[40m\u001b[36mBID:\u001b[0m None \u001b[40m\u001b[36mCOUNTER:\u001b[0m 2 \u001b[40m\u001b[36mBOUGHT:\u001b[0m None \u001b[40m\u001b[36mBOUGHT:\u001b[0m None\n",
      "\u001b[40m\u001b[36mPAIR_OPTION:\u001b[0m GOOGLE \u001b[40m\u001b[36mBID:\u001b[0m None \u001b[40m\u001b[36mCOUNTER:\u001b[0m 3 \u001b[40m\u001b[36mBOUGHT:\u001b[0m None \u001b[40m\u001b[36mBOUGHT:\u001b[0m None\n",
      "\u001b[40m\u001b[36mPAIR_OPTION:\u001b[0m ETHUSD \u001b[40m\u001b[36mBID:\u001b[0m None \u001b[40m\u001b[36mCOUNTER:\u001b[0m 2 \u001b[40m\u001b[36mBOUGHT:\u001b[0m None \u001b[40m\u001b[36mBOUGHT:\u001b[0m None\n",
      "\u001b[40m\u001b[36mPAIR_OPTION:\u001b[0m IOTUSD-L \u001b[40m\u001b[36mBID:\u001b[0m None \u001b[40m\u001b[36mCOUNTER:\u001b[0m 2 \u001b[40m\u001b[36mBOUGHT:\u001b[0m None \u001b[40m\u001b[36mBOUGHT:\u001b[0m None\n",
      "\u001b[40m\u001b[36mPAIR_OPTION:\u001b[0m EOSUSD-L \u001b[40m\u001b[36mBID:\u001b[0m None \u001b[40m\u001b[36mCOUNTER:\u001b[0m 2 \u001b[40m\u001b[36mBOUGHT:\u001b[0m None \u001b[40m\u001b[36mBOUGHT:\u001b[0m None\n",
      "\u001b[40m\u001b[36mPAIR_OPTION:\u001b[0m QTMUSD \u001b[40m\u001b[36mBID:\u001b[0m None \u001b[40m\u001b[36mCOUNTER:\u001b[0m 2 \u001b[40m\u001b[36mBOUGHT:\u001b[0m None \u001b[40m\u001b[36mBOUGHT:\u001b[0m None\n",
      "\u001b[40m\u001b[36mPAIR_OPTION:\u001b[0m EOSUSD \u001b[40m\u001b[36mBID:\u001b[0m None \u001b[40m\u001b[36mCOUNTER:\u001b[0m 2 \u001b[40m\u001b[36mBOUGHT:\u001b[0m None \u001b[40m\u001b[36mBOUGHT:\u001b[0m None\n",
      "\u001b[40m\u001b[36mPAIR_OPTION:\u001b[0m BCHUSD-L \u001b[40m\u001b[36mBID:\u001b[0m None \u001b[40m\u001b[36mCOUNTER:\u001b[0m 3 \u001b[40m\u001b[36mBOUGHT:\u001b[0m None \u001b[40m\u001b[36mBOUGHT:\u001b[0m None\n",
      "\u001b[40m\u001b[36mPAIR_OPTION:\u001b[0m ATOMUSD-L \u001b[40m\u001b[36mBID:\u001b[0m None \u001b[40m\u001b[36mCOUNTER:\u001b[0m 3 \u001b[40m\u001b[36mBOUGHT:\u001b[0m None \u001b[40m\u001b[36mBOUGHT:\u001b[0m None\n",
      "\u001b[40m\u001b[36mPAIR_OPTION:\u001b[0m BTCUSD \u001b[40m\u001b[36mBID:\u001b[0m None \u001b[40m\u001b[36mCOUNTER:\u001b[0m 2 \u001b[40m\u001b[36mBOUGHT:\u001b[0m None \u001b[40m\u001b[36mBOUGHT:\u001b[0m None\n",
      "\u001b[40m\u001b[36mPAIR_OPTION:\u001b[0m TRXUSD \u001b[40m\u001b[36mBID:\u001b[0m None \u001b[40m\u001b[36mCOUNTER:\u001b[0m 3 \u001b[40m\u001b[36mBOUGHT:\u001b[0m None \u001b[40m\u001b[36mBOUGHT:\u001b[0m None\n",
      "\u001b[40m\u001b[36mPAIR_OPTION:\u001b[0m ONTUSD-L \u001b[40m\u001b[36mBID:\u001b[0m None \u001b[40m\u001b[36mCOUNTER:\u001b[0m 2 \u001b[40m\u001b[36mBOUGHT:\u001b[0m None \u001b[40m\u001b[36mBOUGHT:\u001b[0m None\n",
      "\u001b[40m\u001b[36mPAIR_OPTION:\u001b[0m XRPUSD-L \u001b[40m\u001b[36mBID:\u001b[0m None \u001b[40m\u001b[36mCOUNTER:\u001b[0m 2 \u001b[40m\u001b[36mBOUGHT:\u001b[0m None \u001b[40m\u001b[36mBOUGHT:\u001b[0m None\n",
      "\u001b[40m\u001b[36mPAIR_OPTION:\u001b[0m XLMUSD-L \u001b[40m\u001b[36mBID:\u001b[0m None \u001b[40m\u001b[36mCOUNTER:\u001b[0m 2 \u001b[40m\u001b[36mBOUGHT:\u001b[0m None \u001b[40m\u001b[36mBOUGHT:\u001b[0m None\n",
      "\u001b[40m\u001b[36mPAIR_OPTION:\u001b[0m ETHUSD-L \u001b[40m\u001b[36mBID:\u001b[0m None \u001b[40m\u001b[36mCOUNTER:\u001b[0m 2 \u001b[40m\u001b[36mBOUGHT:\u001b[0m None \u001b[40m\u001b[36mBOUGHT:\u001b[0m None\n",
      "\u001b[40m\u001b[36mPAIR_OPTION:\u001b[0m ZECUSD \u001b[40m\u001b[36mBID:\u001b[0m None \u001b[40m\u001b[36mCOUNTER:\u001b[0m 3 \u001b[40m\u001b[36mBOUGHT:\u001b[0m None \u001b[40m\u001b[36mBOUGHT:\u001b[0m None\n",
      "\u001b[40m\u001b[36mPAIR_OPTION:\u001b[0m LTCUSD \u001b[40m\u001b[36mBID:\u001b[0m call \u001b[40m\u001b[36mCOUNTER:\u001b[0m 5 \u001b[40m\u001b[36mBOUGHT:\u001b[0m False \u001b[40m\u001b[36mBOUGHT:\u001b[0m Active 819 not found.\n",
      "\u001b[40m\u001b[36mPAIR_OPTION:\u001b[0m BCHUSD \u001b[40m\u001b[36mBID:\u001b[0m None \u001b[40m\u001b[36mCOUNTER:\u001b[0m 3 \u001b[40m\u001b[36mBOUGHT:\u001b[0m None \u001b[40m\u001b[36mBOUGHT:\u001b[0m None\n",
      "\u001b[40m\u001b[36mPAIR_OPTION:\u001b[0m NEOUSD-L \u001b[40m\u001b[36mBID:\u001b[0m None \u001b[40m\u001b[36mCOUNTER:\u001b[0m 2 \u001b[40m\u001b[36mBOUGHT:\u001b[0m None \u001b[40m\u001b[36mBOUGHT:\u001b[0m None\n",
      "\u001b[40m\u001b[36mPAIR_OPTION:\u001b[0m BTCUSD-L \u001b[40m\u001b[36mBID:\u001b[0m None \u001b[40m\u001b[36mCOUNTER:\u001b[0m 2 \u001b[40m\u001b[36mBOUGHT:\u001b[0m None \u001b[40m\u001b[36mBOUGHT:\u001b[0m None\n",
      "\u001b[40m\u001b[36mPAIR_OPTION:\u001b[0m OMGUSD \u001b[40m\u001b[36mBID:\u001b[0m None \u001b[40m\u001b[36mCOUNTER:\u001b[0m 2 \u001b[40m\u001b[36mBOUGHT:\u001b[0m None \u001b[40m\u001b[36mBOUGHT:\u001b[0m None\n"
     ]
    },
    {
     "name": "stdout",
     "output_type": "stream",
     "text": [
      "\u001b[40m\u001b[36mPAIR_OPTION:\u001b[0m TRXUSD-L \u001b[40m\u001b[36mBID:\u001b[0m None \u001b[40m\u001b[36mCOUNTER:\u001b[0m 3 \u001b[40m\u001b[36mBOUGHT:\u001b[0m None \u001b[40m\u001b[36mBOUGHT:\u001b[0m None\n",
      "\u001b[40m\u001b[36mPAIR_OPTION:\u001b[0m ADAUSD-L \u001b[40m\u001b[36mBID:\u001b[0m call \u001b[40m\u001b[36mCOUNTER:\u001b[0m 5 \u001b[40m\u001b[36mBOUGHT:\u001b[0m False \u001b[40m\u001b[36mBOUGHT:\u001b[0m Active 1119 not found.\n",
      "\u001b[40m\u001b[36mPAIR_OPTION:\u001b[0m DSHUSD \u001b[40m\u001b[36mBID:\u001b[0m None \u001b[40m\u001b[36mCOUNTER:\u001b[0m 2 \u001b[40m\u001b[36mBOUGHT:\u001b[0m None \u001b[40m\u001b[36mBOUGHT:\u001b[0m None\n",
      "\u001b[40m\u001b[36mPAIR_OPTION:\u001b[0m LTCUSD-L \u001b[40m\u001b[36mBID:\u001b[0m call \u001b[40m\u001b[36mCOUNTER:\u001b[0m 5 \u001b[40m\u001b[36mBOUGHT:\u001b[0m False \u001b[40m\u001b[36mBOUGHT:\u001b[0m Active 834 not found.\n",
      "\u001b[40m\u001b[36mPAIR_OPTION:\u001b[0m XRPUSD \u001b[40m\u001b[36mBID:\u001b[0m None \u001b[40m\u001b[36mCOUNTER:\u001b[0m 2 \u001b[40m\u001b[36mBOUGHT:\u001b[0m None \u001b[40m\u001b[36mBOUGHT:\u001b[0m None\n",
      "\u001b[40m\u001b[36mPAIR_OPTION:\u001b[0m BNBUSD-L \u001b[40m\u001b[36mBID:\u001b[0m None \u001b[40m\u001b[36mCOUNTER:\u001b[0m 3 \u001b[40m\u001b[36mBOUGHT:\u001b[0m None \u001b[40m\u001b[36mBOUGHT:\u001b[0m None\n",
      "\u001b[40m\u001b[36mPAIR_OPTION:\u001b[0m ETCUSD \u001b[40m\u001b[36mBID:\u001b[0m None \u001b[40m\u001b[36mCOUNTER:\u001b[0m 3 \u001b[40m\u001b[36mBOUGHT:\u001b[0m None \u001b[40m\u001b[36mBOUGHT:\u001b[0m None\n"
     ]
    }
   ],
   "source": [
    "candles_option = {}\n",
    "for pair_option in open_options:\n",
    "    candles = API.get_candles(ACTIVES=pair_option, interval=interval, count=min_occurrence*2, endtime=time.time())\n",
    "    counter, direction = history_direction_occur(candles)\n",
    "    \n",
    "    bid = 'put' if direction == 'positive' else 'call'\n",
    "    if counter < min_occurrence: bid = None\n",
    "\n",
    "    if bid is not None: \n",
    "        bought, bid_msg = API.buy(spend_bid, pair_option, bid, timeframe)\n",
    "    else:\n",
    "        bought, bid_msg = None, None\n",
    "    \n",
    "    if dev_env:\n",
    "        pair_option_str=colored('PAIR_OPTION:', color='cyan', on_color='on_grey')\n",
    "        bid_str=colored('BID:', color='cyan', on_color='on_grey')\n",
    "        counter_str=colored('COUNTER:', color='cyan', on_color='on_grey')\n",
    "        bought_str=colored('BOUGHT:', color='cyan', on_color='on_grey')\n",
    "        bid_msg_str=colored('BOUGHT:', color='cyan', on_color='on_grey')\n",
    "\n",
    "        print(pair_option_str,pair_option,bid_str,bid,counter_str,counter,bought_str,bought,bid_msg_str,bid_msg)"
   ]
  },
  {
   "cell_type": "code",
   "execution_count": 11,
   "metadata": {},
   "outputs": [],
   "source": [
    "operation_done_time = datetime.now()"
   ]
  },
  {
   "cell_type": "code",
   "execution_count": 12,
   "metadata": {},
   "outputs": [
    {
     "name": "stdout",
     "output_type": "stream",
     "text": [
      "Time between data GET & options POST: 0:00:22.151345\n"
     ]
    }
   ],
   "source": [
    "#0:00:22.360808 ~= 22 segundos com os prints\n",
    "#0:00:23.302261 ~= 23 segundos sem os prints\n",
    "elapsed_time = operation_done_time - history_retrieved_time\n",
    "print('Time between data GET & options POST: {}'.format(str(elapsed_time)))"
   ]
  },
  {
   "cell_type": "code",
   "execution_count": 13,
   "metadata": {},
   "outputs": [],
   "source": [
    "# for pair in pairs['binary']:\n",
    "#     if pairs['binary'][pair]['open'] is True:# and payout[par] >= payout_min:  \n",
    "#         bought, id = API.buy(spend_bid,pair,\"put\",timeframe)\n",
    "#         if bought:\n",
    "#             print(\"Ordem executada com sucesso!\")\n",
    "#         else:\n",
    "#             print(\"Não foi possível executar a ordem!\")"
   ]
  },
  {
   "cell_type": "code",
   "execution_count": 14,
   "metadata": {},
   "outputs": [],
   "source": [
    "# candles_option = {}\n",
    "# for pair_option in open_options:\n",
    "#     candles = API.get_candles(ACTIVES=pair_option, interval=interval, count=min_occurrence*2, endtime=time.time())\n",
    "#     counter, direction = history_direction_occur(candles)\n",
    "    \n",
    "#     bid = 'put' if direction == 'positive' else 'call'\n",
    "#     if counter < min_occurrence: bid = None\n",
    "#     bought, id = API.buy(spend_bid,pair,\"put\",timeframe)\n",
    "#     if bid is not None: \n",
    "#         bought, bid_id = API.buy(spend_bid, pair, bid, timeframe)\n",
    "#         print(bought, bid_id)"
   ]
  }
 ],
 "metadata": {
  "kernelspec": {
   "display_name": "Python 3",
   "language": "python",
   "name": "python3"
  },
  "language_info": {
   "codemirror_mode": {
    "name": "ipython",
    "version": 3
   },
   "file_extension": ".py",
   "mimetype": "text/x-python",
   "name": "python",
   "nbconvert_exporter": "python",
   "pygments_lexer": "ipython3",
   "version": "3.8.5"
  }
 },
 "nbformat": 4,
 "nbformat_minor": 4
}
