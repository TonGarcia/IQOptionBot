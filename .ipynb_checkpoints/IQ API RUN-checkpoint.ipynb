{
 "cells": [
  {
   "cell_type": "markdown",
   "metadata": {},
   "source": [
    "# Load Dependencies"
   ]
  },
  {
   "cell_type": "code",
   "execution_count": 1,
   "metadata": {},
   "outputs": [],
   "source": [
    "from iqoptionapi.stable_api import IQ_Option\n",
    "import time, json\n",
    "from datetime import datetime"
   ]
  },
  {
   "cell_type": "markdown",
   "metadata": {},
   "source": [
    "# Estabelecendo Conexão"
   ]
  },
  {
   "cell_type": "code",
   "execution_count": 2,
   "metadata": {},
   "outputs": [
    {
     "name": "stdout",
     "output_type": "stream",
     "text": [
      "Conexão estabelecida!\n"
     ]
    }
   ],
   "source": [
    "API = IQ_Option('ilton.aws@gmail.com', '/ajV@xjzJ-3peBv')\n",
    "\n",
    "API.connect()\n",
    "API.change_balance('PRACTICE')  # PRACTICE / REAL\n",
    "\n",
    "con_tests = 0\n",
    "max_con_test = 10\n",
    "\n",
    "while True:\n",
    "    con_tests = con_tests + 1\n",
    "    if API.check_connect() is False:\n",
    "        print('Erro ao tentar se conectar!')\n",
    "        API.connect()\n",
    "    elif con_tests == max_con_test:\n",
    "        print('(error)Número máximo de tentativas excedidas!')\n",
    "        break\n",
    "    else:\n",
    "        print('Conexão estabelecida!')\n",
    "        break"
   ]
  },
  {
   "cell_type": "markdown",
   "metadata": {},
   "source": [
    "# Requisitando opções em aberto"
   ]
  },
  {
   "cell_type": "code",
   "execution_count": 3,
   "metadata": {},
   "outputs": [],
   "source": [
    "pairs = API.get_all_open_time()\n",
    "payouts = API.get_all_profit()"
   ]
  },
  {
   "cell_type": "markdown",
   "metadata": {},
   "source": [
    "# Definindo Configuração da estratégia de operação"
   ]
  },
  {
   "cell_type": "code",
   "execution_count": 4,
   "metadata": {},
   "outputs": [],
   "source": [
    "options = ['call', 'put']\n",
    "min_payout = float(0.84)\n",
    "spend_bid = int(2)\n",
    "timeframe = 1\n",
    "index = 0"
   ]
  },
  {
   "cell_type": "code",
   "execution_count": 6,
   "metadata": {},
   "outputs": [
    {
     "name": "stdout",
     "output_type": "stream",
     "text": [
      "Ordem executada com sucesso!\n",
      "Não foi possível executar a ordem!\n",
      "Ordem executada com sucesso!\n",
      "Não foi possível executar a ordem!\n"
     ]
    }
   ],
   "source": [
    "for pair in pairs['binary']:\n",
    "    if pairs['binary'][pair]['open'] is True:# and payout[par] >= payout_min:  \n",
    "        bought, id = API.buy(spend_bid,pair,\"put\",timeframe)\n",
    "        if bought:\n",
    "            print(\"Ordem executada com sucesso!\")\n",
    "        else:\n",
    "            print(\"Não foi possível executar a ordem!\")"
   ]
  },
  {
   "cell_type": "code",
   "execution_count": null,
   "metadata": {},
   "outputs": [],
   "source": []
  }
 ],
 "metadata": {
  "kernelspec": {
   "display_name": "Python 3",
   "language": "python",
   "name": "python3"
  },
  "language_info": {
   "codemirror_mode": {
    "name": "ipython",
    "version": 3
   },
   "file_extension": ".py",
   "mimetype": "text/x-python",
   "name": "python",
   "nbconvert_exporter": "python",
   "pygments_lexer": "ipython3",
   "version": "3.8.5"
  }
 },
 "nbformat": 4,
 "nbformat_minor": 4
}
