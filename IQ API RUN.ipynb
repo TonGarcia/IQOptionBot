{
 "cells": [
  {
   "cell_type": "markdown",
   "metadata": {},
   "source": [
    "# Load Dependencies"
   ]
  },
  {
   "cell_type": "code",
   "execution_count": 1,
   "metadata": {},
   "outputs": [],
   "source": [
    "from iqoptionapi.stable_api import IQ_Option\n",
    "import time, json\n",
    "from datetime import datetime\n",
    "from termcolor import colored"
   ]
  },
  {
   "cell_type": "markdown",
   "metadata": {},
   "source": [
    "# Estabelecendo Conexão"
   ]
  },
  {
   "cell_type": "code",
   "execution_count": 2,
   "metadata": {},
   "outputs": [
    {
     "name": "stdout",
     "output_type": "stream",
     "text": [
      "Conexão estabelecida!\n"
     ]
    }
   ],
   "source": [
    "API = IQ_Option('ilton.aws@gmail.com', '/ajV@xjzJ-3peBv')\n",
    "\n",
    "API.connect()\n",
    "API.change_balance('PRACTICE')  # PRACTICE / REAL\n",
    "\n",
    "con_tests = 0\n",
    "max_con_test = 10\n",
    "\n",
    "while True:\n",
    "    con_tests = con_tests + 1\n",
    "    if API.check_connect() is False:\n",
    "        print('Erro ao tentar se conectar!')\n",
    "        API.connect()\n",
    "    elif con_tests == max_con_test:\n",
    "        print('(error)Número máximo de tentativas excedidas!')\n",
    "        break\n",
    "    else:\n",
    "        print('Conexão estabelecida!')\n",
    "        break"
   ]
  },
  {
   "cell_type": "markdown",
   "metadata": {},
   "source": [
    "# Requisitando opções em aberto"
   ]
  },
  {
   "cell_type": "code",
   "execution_count": 3,
   "metadata": {},
   "outputs": [],
   "source": [
    "pairs = API.get_all_open_time()\n",
    "payouts = API.get_all_profit()"
   ]
  },
  {
   "cell_type": "markdown",
   "metadata": {},
   "source": [
    "# Filter Open Options"
   ]
  },
  {
   "cell_type": "code",
   "execution_count": 4,
   "metadata": {},
   "outputs": [],
   "source": [
    "def filter_options(input_arr,target_arr=[]):\n",
    "    for pair in input_arr:\n",
    "        if input_arr[pair]['open'] is True:\n",
    "            target_arr.append(pair)\n",
    "    return target_arr"
   ]
  },
  {
   "cell_type": "code",
   "execution_count": 5,
   "metadata": {},
   "outputs": [
    {
     "data": {
      "text/plain": [
       "['GBPUSD',\n",
       " 'CADCHF',\n",
       " 'EURNZD',\n",
       " 'AUDCHF',\n",
       " 'GBPNZD',\n",
       " 'EURUSD',\n",
       " 'USDCAD',\n",
       " 'AUDJPY',\n",
       " 'EURAUD',\n",
       " 'GBPJPY',\n",
       " 'EURGBP',\n",
       " 'USDJPY',\n",
       " 'GBPCHF',\n",
       " 'GBPAUD',\n",
       " 'AUDNZD',\n",
       " 'GBPCAD',\n",
       " 'USDNOK',\n",
       " 'AUDUSD',\n",
       " 'EURCAD',\n",
       " 'EURJPY',\n",
       " 'NZDUSD',\n",
       " 'ETHUSD',\n",
       " 'IOTUSD-L',\n",
       " 'EOSUSD-L',\n",
       " 'QTMUSD',\n",
       " 'EOSUSD',\n",
       " 'BCHUSD-L',\n",
       " 'ATOMUSD-L',\n",
       " 'BTCUSD',\n",
       " 'TRXUSD',\n",
       " 'ONTUSD-L',\n",
       " 'XRPUSD-L',\n",
       " 'XLMUSD-L',\n",
       " 'ETHUSD-L',\n",
       " 'ZECUSD',\n",
       " 'LTCUSD',\n",
       " 'BCHUSD',\n",
       " 'NEOUSD-L',\n",
       " 'BTCUSD-L',\n",
       " 'OMGUSD',\n",
       " 'TRXUSD-L',\n",
       " 'ADAUSD-L',\n",
       " 'DSHUSD',\n",
       " 'LTCUSD-L',\n",
       " 'XRPUSD',\n",
       " 'BNBUSD-L',\n",
       " 'ETCUSD']"
      ]
     },
     "execution_count": 5,
     "metadata": {},
     "output_type": "execute_result"
    }
   ],
   "source": [
    "open_options = []\n",
    "open_options = filter_options(pairs['binary'])\n",
    "open_options = filter_options(pairs['crypto'], open_options)\n",
    "open_options"
   ]
  },
  {
   "cell_type": "markdown",
   "metadata": {},
   "source": [
    "# Definindo Configuração da estratégia de operação"
   ]
  },
  {
   "cell_type": "code",
   "execution_count": 6,
   "metadata": {},
   "outputs": [],
   "source": [
    "options = ['call', 'put']\n",
    "interval = 60 #in seconds (60 means 1minute)\n",
    "min_occurrence = 4\n",
    "min_payout = float(0.84)\n",
    "spend_bid = int(1) #min bid working: 2, test 1\n",
    "timeframe = 1\n",
    "index = 0"
   ]
  },
  {
   "cell_type": "markdown",
   "metadata": {},
   "source": [
    "# Get Candles"
   ]
  },
  {
   "cell_type": "code",
   "execution_count": 7,
   "metadata": {},
   "outputs": [],
   "source": [
    "def get_direction(candle):\n",
    "        if candle['close'] > candle['open']:\n",
    "            return 'positive'\n",
    "        elif candle['close'] == candle['open']:\n",
    "            return 'neutro'\n",
    "        else:\n",
    "            return 'negative'"
   ]
  },
  {
   "cell_type": "code",
   "execution_count": 8,
   "metadata": {},
   "outputs": [],
   "source": [
    "def history_direction_occur(candles):\n",
    "    counter = 0\n",
    "    direction = None\n",
    "    for candle in reversed(candles):\n",
    "        n_direction = get_direction(candle)\n",
    "        \n",
    "        if direction is None:\n",
    "            direction = n_direction\n",
    "            counter = counter + 1    \n",
    "            next\n",
    "        \n",
    "        if direction == n_direction:\n",
    "            counter = counter + 1\n",
    "        else:\n",
    "            break\n",
    "    return counter, direction"
   ]
  },
  {
   "cell_type": "code",
   "execution_count": 9,
   "metadata": {},
   "outputs": [
    {
     "name": "stdout",
     "output_type": "stream",
     "text": [
      "\u001b[40m\u001b[36mPAIR_OPTION:\u001b[0m GBPUSD \u001b[40m\u001b[36mBID:\u001b[0m None \u001b[40m\u001b[36mCOUNTER:\u001b[0m 3 \u001b[40m\u001b[36mBOUGHT:\u001b[0m None \u001b[40m\u001b[36mBOUGHT:\u001b[0m None\n",
      "\u001b[40m\u001b[36mPAIR_OPTION:\u001b[0m CADCHF \u001b[40m\u001b[36mBID:\u001b[0m None \u001b[40m\u001b[36mCOUNTER:\u001b[0m 2 \u001b[40m\u001b[36mBOUGHT:\u001b[0m None \u001b[40m\u001b[36mBOUGHT:\u001b[0m None\n",
      "\u001b[40m\u001b[36mPAIR_OPTION:\u001b[0m EURNZD \u001b[40m\u001b[36mBID:\u001b[0m None \u001b[40m\u001b[36mCOUNTER:\u001b[0m 2 \u001b[40m\u001b[36mBOUGHT:\u001b[0m None \u001b[40m\u001b[36mBOUGHT:\u001b[0m None\n",
      "\u001b[40m\u001b[36mPAIR_OPTION:\u001b[0m AUDCHF \u001b[40m\u001b[36mBID:\u001b[0m None \u001b[40m\u001b[36mCOUNTER:\u001b[0m 2 \u001b[40m\u001b[36mBOUGHT:\u001b[0m None \u001b[40m\u001b[36mBOUGHT:\u001b[0m None\n",
      "\u001b[40m\u001b[36mPAIR_OPTION:\u001b[0m GBPNZD \u001b[40m\u001b[36mBID:\u001b[0m None \u001b[40m\u001b[36mCOUNTER:\u001b[0m 3 \u001b[40m\u001b[36mBOUGHT:\u001b[0m None \u001b[40m\u001b[36mBOUGHT:\u001b[0m None\n",
      "\u001b[40m\u001b[36mPAIR_OPTION:\u001b[0m EURUSD \u001b[40m\u001b[36mBID:\u001b[0m None \u001b[40m\u001b[36mCOUNTER:\u001b[0m 2 \u001b[40m\u001b[36mBOUGHT:\u001b[0m None \u001b[40m\u001b[36mBOUGHT:\u001b[0m None\n",
      "\u001b[40m\u001b[36mPAIR_OPTION:\u001b[0m USDCAD \u001b[40m\u001b[36mBID:\u001b[0m None \u001b[40m\u001b[36mCOUNTER:\u001b[0m 2 \u001b[40m\u001b[36mBOUGHT:\u001b[0m None \u001b[40m\u001b[36mBOUGHT:\u001b[0m None\n",
      "\u001b[40m\u001b[36mPAIR_OPTION:\u001b[0m AUDJPY \u001b[40m\u001b[36mBID:\u001b[0m None \u001b[40m\u001b[36mCOUNTER:\u001b[0m 2 \u001b[40m\u001b[36mBOUGHT:\u001b[0m None \u001b[40m\u001b[36mBOUGHT:\u001b[0m None\n",
      "\u001b[40m\u001b[36mPAIR_OPTION:\u001b[0m EURAUD \u001b[40m\u001b[36mBID:\u001b[0m None \u001b[40m\u001b[36mCOUNTER:\u001b[0m 2 \u001b[40m\u001b[36mBOUGHT:\u001b[0m None \u001b[40m\u001b[36mBOUGHT:\u001b[0m None\n",
      "\u001b[40m\u001b[36mPAIR_OPTION:\u001b[0m GBPJPY \u001b[40m\u001b[36mBID:\u001b[0m None \u001b[40m\u001b[36mCOUNTER:\u001b[0m 3 \u001b[40m\u001b[36mBOUGHT:\u001b[0m None \u001b[40m\u001b[36mBOUGHT:\u001b[0m None\n",
      "\u001b[40m\u001b[36mPAIR_OPTION:\u001b[0m EURGBP \u001b[40m\u001b[36mBID:\u001b[0m None \u001b[40m\u001b[36mCOUNTER:\u001b[0m 3 \u001b[40m\u001b[36mBOUGHT:\u001b[0m None \u001b[40m\u001b[36mBOUGHT:\u001b[0m None\n",
      "\u001b[40m\u001b[36mPAIR_OPTION:\u001b[0m USDJPY \u001b[40m\u001b[36mBID:\u001b[0m put \u001b[40m\u001b[36mCOUNTER:\u001b[0m 4 \u001b[40m\u001b[36mBOUGHT:\u001b[0m True \u001b[40m\u001b[36mBOUGHT:\u001b[0m 7437317152\n",
      "\u001b[40m\u001b[36mPAIR_OPTION:\u001b[0m GBPCHF \u001b[40m\u001b[36mBID:\u001b[0m call \u001b[40m\u001b[36mCOUNTER:\u001b[0m 5 \u001b[40m\u001b[36mBOUGHT:\u001b[0m True \u001b[40m\u001b[36mBOUGHT:\u001b[0m 7437317166\n",
      "\u001b[40m\u001b[36mPAIR_OPTION:\u001b[0m GBPAUD \u001b[40m\u001b[36mBID:\u001b[0m None \u001b[40m\u001b[36mCOUNTER:\u001b[0m 3 \u001b[40m\u001b[36mBOUGHT:\u001b[0m None \u001b[40m\u001b[36mBOUGHT:\u001b[0m None\n",
      "\u001b[40m\u001b[36mPAIR_OPTION:\u001b[0m AUDNZD \u001b[40m\u001b[36mBID:\u001b[0m None \u001b[40m\u001b[36mCOUNTER:\u001b[0m 2 \u001b[40m\u001b[36mBOUGHT:\u001b[0m None \u001b[40m\u001b[36mBOUGHT:\u001b[0m None\n",
      "\u001b[40m\u001b[36mPAIR_OPTION:\u001b[0m GBPCAD \u001b[40m\u001b[36mBID:\u001b[0m call \u001b[40m\u001b[36mCOUNTER:\u001b[0m 5 \u001b[40m\u001b[36mBOUGHT:\u001b[0m True \u001b[40m\u001b[36mBOUGHT:\u001b[0m 7437317182\n",
      "\u001b[40m\u001b[36mPAIR_OPTION:\u001b[0m USDNOK \u001b[40m\u001b[36mBID:\u001b[0m call \u001b[40m\u001b[36mCOUNTER:\u001b[0m 8 \u001b[40m\u001b[36mBOUGHT:\u001b[0m False \u001b[40m\u001b[36mBOUGHT:\u001b[0m Não foi possível abrir uma negociação\n",
      "\u001b[40m\u001b[36mPAIR_OPTION:\u001b[0m AUDUSD \u001b[40m\u001b[36mBID:\u001b[0m None \u001b[40m\u001b[36mCOUNTER:\u001b[0m 2 \u001b[40m\u001b[36mBOUGHT:\u001b[0m None \u001b[40m\u001b[36mBOUGHT:\u001b[0m None\n",
      "\u001b[40m\u001b[36mPAIR_OPTION:\u001b[0m EURCAD \u001b[40m\u001b[36mBID:\u001b[0m None \u001b[40m\u001b[36mCOUNTER:\u001b[0m 2 \u001b[40m\u001b[36mBOUGHT:\u001b[0m None \u001b[40m\u001b[36mBOUGHT:\u001b[0m None\n",
      "\u001b[40m\u001b[36mPAIR_OPTION:\u001b[0m EURJPY \u001b[40m\u001b[36mBID:\u001b[0m None \u001b[40m\u001b[36mCOUNTER:\u001b[0m 2 \u001b[40m\u001b[36mBOUGHT:\u001b[0m None \u001b[40m\u001b[36mBOUGHT:\u001b[0m None\n",
      "\u001b[40m\u001b[36mPAIR_OPTION:\u001b[0m NZDUSD \u001b[40m\u001b[36mBID:\u001b[0m None \u001b[40m\u001b[36mCOUNTER:\u001b[0m 2 \u001b[40m\u001b[36mBOUGHT:\u001b[0m None \u001b[40m\u001b[36mBOUGHT:\u001b[0m None\n",
      "\u001b[40m\u001b[36mPAIR_OPTION:\u001b[0m ETHUSD \u001b[40m\u001b[36mBID:\u001b[0m put \u001b[40m\u001b[36mCOUNTER:\u001b[0m 4 \u001b[40m\u001b[36mBOUGHT:\u001b[0m False \u001b[40m\u001b[36mBOUGHT:\u001b[0m Id Ativo =818 não encontrado\n",
      "\u001b[40m\u001b[36mPAIR_OPTION:\u001b[0m IOTUSD-L \u001b[40m\u001b[36mBID:\u001b[0m None \u001b[40m\u001b[36mCOUNTER:\u001b[0m 2 \u001b[40m\u001b[36mBOUGHT:\u001b[0m None \u001b[40m\u001b[36mBOUGHT:\u001b[0m None\n",
      "\u001b[40m\u001b[36mPAIR_OPTION:\u001b[0m EOSUSD-L \u001b[40m\u001b[36mBID:\u001b[0m None \u001b[40m\u001b[36mCOUNTER:\u001b[0m 2 \u001b[40m\u001b[36mBOUGHT:\u001b[0m None \u001b[40m\u001b[36mBOUGHT:\u001b[0m None\n",
      "\u001b[40m\u001b[36mPAIR_OPTION:\u001b[0m QTMUSD \u001b[40m\u001b[36mBID:\u001b[0m None \u001b[40m\u001b[36mCOUNTER:\u001b[0m 2 \u001b[40m\u001b[36mBOUGHT:\u001b[0m None \u001b[40m\u001b[36mBOUGHT:\u001b[0m None\n",
      "\u001b[40m\u001b[36mPAIR_OPTION:\u001b[0m EOSUSD \u001b[40m\u001b[36mBID:\u001b[0m None \u001b[40m\u001b[36mCOUNTER:\u001b[0m 2 \u001b[40m\u001b[36mBOUGHT:\u001b[0m None \u001b[40m\u001b[36mBOUGHT:\u001b[0m None\n",
      "\u001b[40m\u001b[36mPAIR_OPTION:\u001b[0m BCHUSD-L \u001b[40m\u001b[36mBID:\u001b[0m None \u001b[40m\u001b[36mCOUNTER:\u001b[0m 2 \u001b[40m\u001b[36mBOUGHT:\u001b[0m None \u001b[40m\u001b[36mBOUGHT:\u001b[0m None\n",
      "\u001b[40m\u001b[36mPAIR_OPTION:\u001b[0m ATOMUSD-L \u001b[40m\u001b[36mBID:\u001b[0m None \u001b[40m\u001b[36mCOUNTER:\u001b[0m 2 \u001b[40m\u001b[36mBOUGHT:\u001b[0m None \u001b[40m\u001b[36mBOUGHT:\u001b[0m None\n",
      "\u001b[40m\u001b[36mPAIR_OPTION:\u001b[0m BTCUSD \u001b[40m\u001b[36mBID:\u001b[0m None \u001b[40m\u001b[36mCOUNTER:\u001b[0m 2 \u001b[40m\u001b[36mBOUGHT:\u001b[0m None \u001b[40m\u001b[36mBOUGHT:\u001b[0m None\n",
      "\u001b[40m\u001b[36mPAIR_OPTION:\u001b[0m TRXUSD \u001b[40m\u001b[36mBID:\u001b[0m None \u001b[40m\u001b[36mCOUNTER:\u001b[0m 2 \u001b[40m\u001b[36mBOUGHT:\u001b[0m None \u001b[40m\u001b[36mBOUGHT:\u001b[0m None\n",
      "\u001b[40m\u001b[36mPAIR_OPTION:\u001b[0m ONTUSD-L \u001b[40m\u001b[36mBID:\u001b[0m None \u001b[40m\u001b[36mCOUNTER:\u001b[0m 3 \u001b[40m\u001b[36mBOUGHT:\u001b[0m None \u001b[40m\u001b[36mBOUGHT:\u001b[0m None\n",
      "\u001b[40m\u001b[36mPAIR_OPTION:\u001b[0m XRPUSD-L \u001b[40m\u001b[36mBID:\u001b[0m None \u001b[40m\u001b[36mCOUNTER:\u001b[0m 2 \u001b[40m\u001b[36mBOUGHT:\u001b[0m None \u001b[40m\u001b[36mBOUGHT:\u001b[0m None\n",
      "\u001b[40m\u001b[36mPAIR_OPTION:\u001b[0m XLMUSD-L \u001b[40m\u001b[36mBID:\u001b[0m put \u001b[40m\u001b[36mCOUNTER:\u001b[0m 4 \u001b[40m\u001b[36mBOUGHT:\u001b[0m False \u001b[40m\u001b[36mBOUGHT:\u001b[0m Id Ativo =1117 não encontrado\n",
      "\u001b[40m\u001b[36mPAIR_OPTION:\u001b[0m ETHUSD-L \u001b[40m\u001b[36mBID:\u001b[0m put \u001b[40m\u001b[36mCOUNTER:\u001b[0m 4 \u001b[40m\u001b[36mBOUGHT:\u001b[0m False \u001b[40m\u001b[36mBOUGHT:\u001b[0m Id Ativo =831 não encontrado\n",
      "\u001b[40m\u001b[36mPAIR_OPTION:\u001b[0m ZECUSD \u001b[40m\u001b[36mBID:\u001b[0m None \u001b[40m\u001b[36mCOUNTER:\u001b[0m 2 \u001b[40m\u001b[36mBOUGHT:\u001b[0m None \u001b[40m\u001b[36mBOUGHT:\u001b[0m None\n",
      "\u001b[40m\u001b[36mPAIR_OPTION:\u001b[0m LTCUSD \u001b[40m\u001b[36mBID:\u001b[0m put \u001b[40m\u001b[36mCOUNTER:\u001b[0m 5 \u001b[40m\u001b[36mBOUGHT:\u001b[0m False \u001b[40m\u001b[36mBOUGHT:\u001b[0m Id Ativo =819 não encontrado\n",
      "\u001b[40m\u001b[36mPAIR_OPTION:\u001b[0m BCHUSD \u001b[40m\u001b[36mBID:\u001b[0m None \u001b[40m\u001b[36mCOUNTER:\u001b[0m 2 \u001b[40m\u001b[36mBOUGHT:\u001b[0m None \u001b[40m\u001b[36mBOUGHT:\u001b[0m None\n",
      "\u001b[40m\u001b[36mPAIR_OPTION:\u001b[0m NEOUSD-L \u001b[40m\u001b[36mBID:\u001b[0m None \u001b[40m\u001b[36mCOUNTER:\u001b[0m 2 \u001b[40m\u001b[36mBOUGHT:\u001b[0m None \u001b[40m\u001b[36mBOUGHT:\u001b[0m None\n",
      "\u001b[40m\u001b[36mPAIR_OPTION:\u001b[0m BTCUSD-L \u001b[40m\u001b[36mBID:\u001b[0m None \u001b[40m\u001b[36mCOUNTER:\u001b[0m 2 \u001b[40m\u001b[36mBOUGHT:\u001b[0m None \u001b[40m\u001b[36mBOUGHT:\u001b[0m None\n",
      "\u001b[40m\u001b[36mPAIR_OPTION:\u001b[0m OMGUSD \u001b[40m\u001b[36mBID:\u001b[0m call \u001b[40m\u001b[36mCOUNTER:\u001b[0m 5 \u001b[40m\u001b[36mBOUGHT:\u001b[0m False \u001b[40m\u001b[36mBOUGHT:\u001b[0m Id Ativo =825 não encontrado\n",
      "\u001b[40m\u001b[36mPAIR_OPTION:\u001b[0m TRXUSD-L \u001b[40m\u001b[36mBID:\u001b[0m None \u001b[40m\u001b[36mCOUNTER:\u001b[0m 2 \u001b[40m\u001b[36mBOUGHT:\u001b[0m None \u001b[40m\u001b[36mBOUGHT:\u001b[0m None\n",
      "\u001b[40m\u001b[36mPAIR_OPTION:\u001b[0m ADAUSD-L \u001b[40m\u001b[36mBID:\u001b[0m None \u001b[40m\u001b[36mCOUNTER:\u001b[0m 2 \u001b[40m\u001b[36mBOUGHT:\u001b[0m None \u001b[40m\u001b[36mBOUGHT:\u001b[0m None\n",
      "\u001b[40m\u001b[36mPAIR_OPTION:\u001b[0m DSHUSD \u001b[40m\u001b[36mBID:\u001b[0m put \u001b[40m\u001b[36mCOUNTER:\u001b[0m 4 \u001b[40m\u001b[36mBOUGHT:\u001b[0m False \u001b[40m\u001b[36mBOUGHT:\u001b[0m Id Ativo =821 não encontrado\n",
      "\u001b[40m\u001b[36mPAIR_OPTION:\u001b[0m LTCUSD-L \u001b[40m\u001b[36mBID:\u001b[0m None \u001b[40m\u001b[36mCOUNTER:\u001b[0m 2 \u001b[40m\u001b[36mBOUGHT:\u001b[0m None \u001b[40m\u001b[36mBOUGHT:\u001b[0m None\n",
      "\u001b[40m\u001b[36mPAIR_OPTION:\u001b[0m XRPUSD \u001b[40m\u001b[36mBID:\u001b[0m None \u001b[40m\u001b[36mCOUNTER:\u001b[0m 2 \u001b[40m\u001b[36mBOUGHT:\u001b[0m None \u001b[40m\u001b[36mBOUGHT:\u001b[0m None\n",
      "\u001b[40m\u001b[36mPAIR_OPTION:\u001b[0m BNBUSD-L \u001b[40m\u001b[36mBID:\u001b[0m None \u001b[40m\u001b[36mCOUNTER:\u001b[0m 2 \u001b[40m\u001b[36mBOUGHT:\u001b[0m None \u001b[40m\u001b[36mBOUGHT:\u001b[0m None\n",
      "\u001b[40m\u001b[36mPAIR_OPTION:\u001b[0m ETCUSD \u001b[40m\u001b[36mBID:\u001b[0m None \u001b[40m\u001b[36mCOUNTER:\u001b[0m 2 \u001b[40m\u001b[36mBOUGHT:\u001b[0m None \u001b[40m\u001b[36mBOUGHT:\u001b[0m None\n"
     ]
    }
   ],
   "source": [
    "candles_option = {}\n",
    "for pair_option in open_options:\n",
    "    candles = API.get_candles(ACTIVES=pair_option, interval=interval, count=min_occurrence*2, endtime=time.time())\n",
    "    counter, direction = history_direction_occur(candles)\n",
    "    \n",
    "    bid = 'put' if direction == 'positive' else 'call'\n",
    "    if counter < min_occurrence: bid = None\n",
    "\n",
    "    if bid is not None: \n",
    "        bought, bid_msg = API.buy(spend_bid, pair_option, bid, timeframe)\n",
    "    else:\n",
    "        bought, bid_msg = None, None\n",
    "        \n",
    "    pair_option_str=colored('PAIR_OPTION:', color='cyan', on_color='on_grey')\n",
    "    bid_str=colored('BID:', color='cyan', on_color='on_grey')\n",
    "    counter_str=colored('COUNTER:', color='cyan', on_color='on_grey')\n",
    "    bought_str=colored('BOUGHT:', color='cyan', on_color='on_grey')\n",
    "    bid_msg_str=colored('BOUGHT:', color='cyan', on_color='on_grey')\n",
    "    \n",
    "    print(pair_option_str,pair_option,bid_str,bid,counter_str,counter,bought_str,bought,bid_msg_str,bid_msg)"
   ]
  },
  {
   "cell_type": "code",
   "execution_count": 10,
   "metadata": {},
   "outputs": [],
   "source": [
    "# for pair in pairs['binary']:\n",
    "#     if pairs['binary'][pair]['open'] is True:# and payout[par] >= payout_min:  \n",
    "#         bought, id = API.buy(spend_bid,pair,\"put\",timeframe)\n",
    "#         if bought:\n",
    "#             print(\"Ordem executada com sucesso!\")\n",
    "#         else:\n",
    "#             print(\"Não foi possível executar a ordem!\")"
   ]
  },
  {
   "cell_type": "code",
   "execution_count": 11,
   "metadata": {},
   "outputs": [],
   "source": [
    "# candles_option = {}\n",
    "# for pair_option in open_options:\n",
    "#     candles = API.get_candles(ACTIVES=pair_option, interval=interval, count=min_occurrence*2, endtime=time.time())\n",
    "#     counter, direction = history_direction_occur(candles)\n",
    "    \n",
    "#     bid = 'put' if direction == 'positive' else 'call'\n",
    "#     if counter < min_occurrence: bid = None\n",
    "#     bought, id = API.buy(spend_bid,pair,\"put\",timeframe)\n",
    "#     if bid is not None: \n",
    "#         bought, bid_id = API.buy(spend_bid, pair, bid, timeframe)\n",
    "#         print(bought, bid_id)"
   ]
  }
 ],
 "metadata": {
  "kernelspec": {
   "display_name": "Python 3",
   "language": "python",
   "name": "python3"
  },
  "language_info": {
   "codemirror_mode": {
    "name": "ipython",
    "version": 3
   },
   "file_extension": ".py",
   "mimetype": "text/x-python",
   "name": "python",
   "nbconvert_exporter": "python",
   "pygments_lexer": "ipython3",
   "version": "3.8.5"
  }
 },
 "nbformat": 4,
 "nbformat_minor": 4
}
